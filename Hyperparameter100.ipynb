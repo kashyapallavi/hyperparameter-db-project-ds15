{
 "cells": [
  {
   "cell_type": "code",
   "execution_count": 111,
   "metadata": {},
   "outputs": [],
   "source": [
    "import h2o\n",
    "from h2o.automl import H2OAutoML\n",
    "import random, os, sys\n",
    "from datetime import datetime\n",
    "import pandas as pd\n",
    "import logging\n",
    "import csv\n",
    "import optparse\n",
    "import time\n",
    "import json\n",
    "from distutils.util import strtobool\n",
    "import psutil"
   ]
  },
  {
   "cell_type": "code",
   "execution_count": 156,
   "metadata": {},
   "outputs": [],
   "source": [
    "data_path=None\n",
    "all_variables=None\n",
    "test_path=None\n",
    "# target='search_term'\n",
    "target=None\n",
    "nthreads=1 \n",
    "min_mem_size=6 \n",
    "run_time=100\n",
    "classification=False\n",
    "scale=False\n",
    "max_models=20   \n",
    "model_path=None\n",
    "balance_y=False \n",
    "balance_threshold=0.2\n",
    "name=None \n",
    "server_path=None  \n",
    "analysis=0"
   ]
  },
  {
   "cell_type": "code",
   "execution_count": 157,
   "metadata": {},
   "outputs": [
    {
     "name": "stdout",
     "output_type": "stream",
     "text": [
      "0\n"
     ]
    }
   ],
   "source": [
    "pct_memory=0.5\n",
    "virtual_memory=psutil.virtual_memory()\n",
    "min_mem_size=int(round(int(pct_memory*virtual_memory.available)/1073741824,0))\n",
    "print(min_mem_size)"
   ]
  },
  {
   "cell_type": "code",
   "execution_count": 158,
   "metadata": {},
   "outputs": [],
   "source": [
    "#Funtion for meta data\n",
    "def set_meta_data(analysis,run_id,server,data,test,model_path,target,run_time,classification,scale,model,balance,\n",
    "                  balance_threshold,name,path,nthreads,min_mem_size):\n",
    "  m_data={}\n",
    "  m_data['start_time'] = time.time()\n",
    "  m_data['target']=target\n",
    "  m_data['server_path']=server\n",
    "  m_data['data_path']=data \n",
    "  m_data['test_path']=test\n",
    "  m_data['max_models']=model\n",
    "  m_data['run_time']=run_time\n",
    "  m_data['run_id'] =run_id\n",
    "  m_data['scale']=scale\n",
    "  m_data['classification']=classification\n",
    "  m_data['scale']=False\n",
    "  m_data['model_path']=model_path\n",
    "  m_data['balance']=balance\n",
    "  m_data['balance_threshold']=balance_threshold\n",
    "  m_data['project'] =name\n",
    "  m_data['end_time'] = time.time()\n",
    "  m_data['execution_time'] = 0.0\n",
    "  m_data['run_path'] =path\n",
    "  m_data['nthreads'] = nthreads\n",
    "  m_data['min_mem_size'] = min_mem_size\n",
    "  m_data['analysis'] = analysis\n",
    "  return m_data\n",
    "\n",
    "\n"
   ]
  },
  {
   "cell_type": "code",
   "execution_count": 159,
   "metadata": {},
   "outputs": [],
   "source": [
    "#Function to convert dictionary into json file\n",
    "def dict_to_json(dct,n):\n",
    "  j = json.dumps(dct, indent=4)\n",
    "  f = open(n, 'w')\n",
    "  print(j, file=f)\n",
    "  f.close()\n",
    "    \n",
    "#Function for random alphabet   \n",
    "def alphabet(n):\n",
    "    alpha='0123456789abcdefghijklmnopqrstuvwxyzABCDEFGHIJKLMNOPQRSTUVWXYZ'    \n",
    "    str=''\n",
    "    r=len(alpha)-1   \n",
    "    while len(str)<n:\n",
    "        i=random.randint(0,r)\n",
    "        str+=alpha[i]   \n",
    "        return str\n",
    "\n",
    "def impute_missing_values(df, x, scal=False):\n",
    "    # determine column types\n",
    "    ints, reals, enums = [], [], []\n",
    "    for key, val in df.types.items():\n",
    "        if key in x:\n",
    "            if val == 'enum':\n",
    "                enums.append(key)\n",
    "            elif val == 'int':\n",
    "                ints.append(key)            \n",
    "            else: \n",
    "                reals.append(key)    \n",
    "    _ = df[reals].impute(method='mean')\n",
    "    _ = df[ints].impute(method='median')\n",
    "    if scal:\n",
    "        df[reals] = df[reals].scale()\n",
    "        df[ints] = df[ints].scale()    \n",
    "    return\n",
    "\n",
    "def stackedensemble(mod):\n",
    "    coef_norm=None\n",
    "    try:\n",
    "      metalearner = h2o.get_model(mod.metalearner()['name'])\n",
    "      coef_norm=metalearner.coef_norm()\n",
    "    except:\n",
    "      pass        \n",
    "    return coef_norm\n",
    "\n",
    "def stackedensemble_df(df):\n",
    "    bm_algo={ 'GBM': None,'GLM': None,'DRF': None,'XRT': None,'Dee': None}\n",
    "    for index, row in df.iterrows():\n",
    "      if len(row['model_id'])>3:\n",
    "        key=row['model_id'][0:3]\n",
    "        if key in bm_algo:\n",
    "          if bm_algo[key] is None:\n",
    "                bm_algo[key]=row['model_id']\n",
    "    bm=list(bm_algo.values()) \n",
    "    bm=list(filter(None.__ne__, bm))             \n",
    "    return bm\n",
    "\n",
    "def se_stats(modl):\n",
    "    d={}\n",
    "    d['algo']=modl.algo\n",
    "    d['model_id']=modl.model_id  \n",
    "    d['auc']=modl.auc()   \n",
    "    d['roc']=modl.roc()\n",
    "    d['mse']=modl.mse()   \n",
    "    d['null_degrees_of_freedom']=modl.null_degrees_of_freedom()\n",
    "    d['null_deviance']=modl.null_deviance()\n",
    "    d['residual_degrees_of_freedom']=modl.residual_degrees_of_freedom()   \n",
    "    d['residual_deviance']=modl.residual_deviance()\n",
    "    d['rmse']=modl.rmse()\n",
    "    return d\n",
    "\n",
    "def get_model_by_algo(algo,models_dict):\n",
    "    mod=None\n",
    "    mod_id=None    \n",
    "    for m in list(models_dict.keys()):\n",
    "        if m[0:3]==algo:\n",
    "            mod_id=m\n",
    "            mod=h2o.get_model(m)      \n",
    "    return mod,mod_id     \n",
    "    \n",
    "    \n",
    "def gbm_stats(modl):\n",
    "    d={}\n",
    "    d['algo']=modl.algo\n",
    "    d['model_id']=modl.model_id   \n",
    "    d['varimp']=modl.varimp()  \n",
    "    return d\n",
    "    \n",
    "    \n",
    "def dl_stats(modl):\n",
    "    d={}\n",
    "    d['algo']=modl.algo\n",
    "    d['model_id']=modl.model_id   \n",
    "    d['varimp']=modl.varimp()  \n",
    "    return d\n",
    "    \n",
    "    \n",
    "def drf_stats(modl):\n",
    "    d={}\n",
    "    d['algo']=modl.algo\n",
    "    d['model_id']=modl.model_id   \n",
    "    d['varimp']=modl.varimp()  \n",
    "    d['roc']=modl.roc()     \n",
    "    return d\n",
    "    \n",
    "def xrt_stats(modl):\n",
    "    d={}\n",
    "    d['algo']=modl.algo\n",
    "    d['model_id']=modl.model_id   \n",
    "    d['varimp']=modl.varimp()  \n",
    "    d['roc']=modl.roc()      \n",
    "    return d\n",
    "    \n",
    "    \n",
    "def glm_stats(modl):\n",
    "    d={}\n",
    "    d['algo']=modl.algo\n",
    "    d['model_id']=modl.model_id   \n",
    "    d['coef']=modl.coef()  \n",
    "    d['coef_norm']=modl.coef_norm()      \n",
    "    return d\n",
    "    \n",
    "def model_performance_stats(perf):\n",
    "    d={}\n",
    "    try:    \n",
    "      d['mse']=perf.mse()\n",
    "    except:\n",
    "      pass      \n",
    "    try:    \n",
    "      d['rmse']=perf.rmse() \n",
    "    except:\n",
    "      pass      \n",
    "    try:    \n",
    "      d['null_degrees_of_freedom']=perf.null_degrees_of_freedom()\n",
    "    except:\n",
    "      pass      \n",
    "    try:    \n",
    "      d['residual_degrees_of_freedom']=perf.residual_degrees_of_freedom()\n",
    "    except:\n",
    "      pass      \n",
    "    try:    \n",
    "      d['residual_deviance']=perf.residual_deviance() \n",
    "    except:      pass      \n",
    "    try:    \n",
    "      d['null_deviance']=perf.null_deviance() \n",
    "    except:\n",
    "      pass      \n",
    "    try:    \n",
    "      d['aic']=perf.aic() \n",
    "    except:\n",
    "      pass      \n",
    "    try:\n",
    "      d['logloss']=perf.logloss() \n",
    "    except:\n",
    "      pass    \n",
    "    try:\n",
    "      d['auc']=perf.auc()\n",
    "    except:\n",
    "      pass  \n",
    "    try:\n",
    "      d['gini']=perf.gini()\n",
    "    except:\n",
    "      pass    \n",
    "    return d\n",
    "def predictions(mod,data,run_id):\n",
    "    test = h2o.import_file(data)\n",
    "    mod_perf=mod_best.model_performance(test)\n",
    "              \n",
    "    stats_test={}\n",
    "    stats_test=model_performance_stats(mod_perf)\n",
    "\n",
    "    n=run_id+'_test_stats.json'\n",
    "    dict_to_json(stats_test,n) \n",
    "\n",
    "    try:    \n",
    "      cf=mod_perf.confusion_matrix(metrics=[\"f1\",\"f2\",\"f0point5\",\"accuracy\",\"precision\",\"recall\",\"specificity\",\"absolute_mcc\",\"min_per_class_accuracy\",\"mean_per_class_accuracy\"])\n",
    "      cf_df=cf[0].table.as_data_frame()\n",
    "      cf_df.to_csv(run_id+'_test_confusion_matrix.csv')\n",
    "    except:\n",
    "      pass\n",
    "\n",
    "    predictions = mod_best.predict(test)\n",
    "    predictions_df=test.cbind(predictions).as_data_frame() \n",
    "    predictions_df.to_csv(run_id+'_predictions.csv')\n",
    "    return\n",
    "def predictions_test(mod,test,run_id):\n",
    "    mod_perf=mod_best.model_performance(test)          \n",
    "    stats_test={}\n",
    "    stats_test=model_performance_stats(mod_perf)\n",
    "    n=run_id+'_test_stats.json'\n",
    "    dict_to_json(stats_test,n) \n",
    "    try:\n",
    "      cf=mod_perf.confusion_matrix()\n",
    "#      cf=mod_perf.confusion_matrix(metrics=[\"f1\",\"f2\",\"f0point5\",\"accuracy\",\"precision\",\"recall\",\"specificity\",\"absolute_mcc\",\"min_per_class_accuracy\",\"mean_per_class_accuracy\"])\n",
    "      cf_df=cf.table.as_data_frame()\n",
    "      cf_df.to_csv(run_id+'_test_confusion_matrix.csv')\n",
    "    except:\n",
    "      pass\n",
    "    predictions = mod_best.predict(test)    \n",
    "    predictions_df=test.cbind(predictions).as_data_frame() \n",
    "    predictions_df.to_csv(run_id+'_predictions.csv')\n",
    "    return predictions\n",
    "\n",
    "def check_X(x,df):\n",
    "    for name in x:\n",
    "        if name not in df.columns:\n",
    "          x.remove(name)  \n",
    "    return x    \n",
    "    \n",
    "    \n",
    "def get_stacked_ensemble(lst):\n",
    "    se=None\n",
    "    for model in model_set:\n",
    "      if 'BestOfFamily' in model:\n",
    "        se=model\n",
    "    if se is None:     \n",
    "      for model in model_set:\n",
    "        if 'AllModels'in model:\n",
    "          se=model           \n",
    "    return se       \n",
    "    \n",
    "def get_variables_types(df):\n",
    "    d={}\n",
    "    for key, val in df.types.items():\n",
    "        d[key]=val\n",
    "    return d    "
   ]
  },
  {
   "cell_type": "code",
   "execution_count": 160,
   "metadata": {},
   "outputs": [],
   "source": [
    "all_variables=None"
   ]
  },
  {
   "cell_type": "code",
   "execution_count": 161,
   "metadata": {},
   "outputs": [],
   "source": [
    "data_path='C:/Users/pkash/Downloads/adult.csv'"
   ]
  },
  {
   "cell_type": "code",
   "execution_count": 162,
   "metadata": {},
   "outputs": [
    {
     "name": "stdout",
     "output_type": "stream",
     "text": [
      "R\n"
     ]
    }
   ],
   "source": [
    "run_id=alphabet(9)\n",
    "if server_path==None:\n",
    "    server_path=os.path.abspath(os.curdir)\n",
    "os.chdir(server_path) \n",
    "run_dir = os.path.join(server_path,run_id)\n",
    "os.mkdir(run_dir)\n",
    "os.chdir(run_dir)    \n",
    "\n",
    "# run_id to std out\n",
    "print (run_id)"
   ]
  },
  {
   "cell_type": "code",
   "execution_count": 163,
   "metadata": {},
   "outputs": [
    {
     "name": "stdout",
     "output_type": "stream",
     "text": [
      "C:\\Users\\pkash\\Y\\e\\Q\\R\\logs   R_autoh2o_log.zip\n"
     ]
    }
   ],
   "source": [
    "##For logs\n",
    "logfile=run_id+'_autoh2o_log.zip'\n",
    "logs_path=os.path.join(run_dir,'logs')\n",
    "print(logs_path,' ',logfile)"
   ]
  },
  {
   "cell_type": "code",
   "execution_count": 164,
   "metadata": {},
   "outputs": [
    {
     "name": "stdout",
     "output_type": "stream",
     "text": [
      "Checking whether there is an H2O instance running at http://localhost:54323 . connected.\n"
     ]
    },
    {
     "data": {
      "text/html": [
       "<div style=\"overflow:auto\"><table style=\"width:50%\"><tr><td>H2O cluster uptime:</td>\n",
       "<td>4 mins 10 secs</td></tr>\n",
       "<tr><td>H2O cluster timezone:</td>\n",
       "<td>America/New_York</td></tr>\n",
       "<tr><td>H2O data parsing timezone:</td>\n",
       "<td>UTC</td></tr>\n",
       "<tr><td>H2O cluster version:</td>\n",
       "<td>3.24.0.1</td></tr>\n",
       "<tr><td>H2O cluster version age:</td>\n",
       "<td>14 days, 17 hours and 2 minutes </td></tr>\n",
       "<tr><td>H2O cluster name:</td>\n",
       "<td>H2O_from_python_pkash_feeqih</td></tr>\n",
       "<tr><td>H2O cluster total nodes:</td>\n",
       "<td>1</td></tr>\n",
       "<tr><td>H2O cluster free memory:</td>\n",
       "<td>1.428 Gb</td></tr>\n",
       "<tr><td>H2O cluster total cores:</td>\n",
       "<td>8</td></tr>\n",
       "<tr><td>H2O cluster allowed cores:</td>\n",
       "<td>8</td></tr>\n",
       "<tr><td>H2O cluster status:</td>\n",
       "<td>locked, healthy</td></tr>\n",
       "<tr><td>H2O connection url:</td>\n",
       "<td>http://localhost:54323</td></tr>\n",
       "<tr><td>H2O connection proxy:</td>\n",
       "<td>None</td></tr>\n",
       "<tr><td>H2O internal security:</td>\n",
       "<td>False</td></tr>\n",
       "<tr><td>H2O API Extensions:</td>\n",
       "<td>Amazon S3, Algos, AutoML, Core V3, Core V4</td></tr>\n",
       "<tr><td>Python version:</td>\n",
       "<td>3.7.1 final</td></tr></table></div>"
      ],
      "text/plain": [
       "--------------------------  ------------------------------------------\n",
       "H2O cluster uptime:         4 mins 10 secs\n",
       "H2O cluster timezone:       America/New_York\n",
       "H2O data parsing timezone:  UTC\n",
       "H2O cluster version:        3.24.0.1\n",
       "H2O cluster version age:    14 days, 17 hours and 2 minutes\n",
       "H2O cluster name:           H2O_from_python_pkash_feeqih\n",
       "H2O cluster total nodes:    1\n",
       "H2O cluster free memory:    1.428 Gb\n",
       "H2O cluster total cores:    8\n",
       "H2O cluster allowed cores:  8\n",
       "H2O cluster status:         locked, healthy\n",
       "H2O connection url:         http://localhost:54323\n",
       "H2O connection proxy:\n",
       "H2O internal security:      False\n",
       "H2O API Extensions:         Amazon S3, Algos, AutoML, Core V3, Core V4\n",
       "Python version:             3.7.1 final\n",
       "--------------------------  ------------------------------------------"
      ]
     },
     "metadata": {},
     "output_type": "display_data"
    }
   ],
   "source": [
    "h2o.init(ip=\"localhost\", port=54323)"
   ]
  },
  {
   "cell_type": "code",
   "execution_count": 165,
   "metadata": {},
   "outputs": [
    {
     "name": "stdout",
     "output_type": "stream",
     "text": [
      "{'start_time': 1555360951.0231917, 'target': None, 'server_path': 'C:\\\\Users\\\\pkash\\\\Y\\\\e\\\\Q', 'data_path': 'C:/Users/pkash/Downloads/adult.csv', 'test_path': None, 'max_models': 20, 'run_time': 100, 'run_id': 'R', 'scale': False, 'classification': False, 'model_path': None, 'balance': False, 'balance_threshold': 0.2, 'project': None, 'end_time': 1555360951.0231917, 'execution_time': 0.0, 'run_path': 'C:\\\\Users\\\\pkash\\\\Y\\\\e\\\\Q\\\\R', 'nthreads': 1, 'min_mem_size': 0, 'analysis': 0}\n"
     ]
    }
   ],
   "source": [
    "# meta data\n",
    "meta_data = set_meta_data(analysis, run_id,server_path,data_path,test_path,model_path,target,run_time,classification,scale,max_models,balance_y,balance_threshold,name,run_dir,nthreads,min_mem_size)\n",
    "print(meta_data)"
   ]
  },
  {
   "cell_type": "code",
   "execution_count": 166,
   "metadata": {},
   "outputs": [
    {
     "name": "stdout",
     "output_type": "stream",
     "text": [
      "Parse progress: |█████████████████████████████████████████████████████████| 100%\n"
     ]
    }
   ],
   "source": [
    "df = h2o.import_file(data_path)"
   ]
  },
  {
   "cell_type": "code",
   "execution_count": 167,
   "metadata": {},
   "outputs": [
    {
     "data": {
      "text/html": [
       "<table>\n",
       "<thead>\n",
       "<tr><th style=\"text-align: right;\">  age</th><th>workclass       </th><th style=\"text-align: right;\">  fnlwgt</th><th>education   </th><th style=\"text-align: right;\">  educational-num</th><th>marital-status    </th><th>occupation       </th><th>relationship  </th><th>race  </th><th>gender  </th><th style=\"text-align: right;\">  capital-gain</th><th style=\"text-align: right;\">  capital-loss</th><th style=\"text-align: right;\">  hours-per-week</th><th>native-country  </th><th>income  </th></tr>\n",
       "</thead>\n",
       "<tbody>\n",
       "<tr><td style=\"text-align: right;\">   25</td><td>Private         </td><td style=\"text-align: right;\">  226802</td><td>11th        </td><td style=\"text-align: right;\">                7</td><td>Never-married     </td><td>Machine-op-inspct</td><td>Own-child     </td><td>Black </td><td>Male    </td><td style=\"text-align: right;\">             0</td><td style=\"text-align: right;\">             0</td><td style=\"text-align: right;\">              40</td><td>United-States   </td><td><=50K   </td></tr>\n",
       "<tr><td style=\"text-align: right;\">   38</td><td>Private         </td><td style=\"text-align: right;\">   89814</td><td>HS-grad     </td><td style=\"text-align: right;\">                9</td><td>Married-civ-spouse</td><td>Farming-fishing  </td><td>Husband       </td><td>White </td><td>Male    </td><td style=\"text-align: right;\">             0</td><td style=\"text-align: right;\">             0</td><td style=\"text-align: right;\">              50</td><td>United-States   </td><td><=50K   </td></tr>\n",
       "<tr><td style=\"text-align: right;\">   28</td><td>Local-gov       </td><td style=\"text-align: right;\">  336951</td><td>Assoc-acdm  </td><td style=\"text-align: right;\">               12</td><td>Married-civ-spouse</td><td>Protective-serv  </td><td>Husband       </td><td>White </td><td>Male    </td><td style=\"text-align: right;\">             0</td><td style=\"text-align: right;\">             0</td><td style=\"text-align: right;\">              40</td><td>United-States   </td><td>>50K    </td></tr>\n",
       "<tr><td style=\"text-align: right;\">   44</td><td>Private         </td><td style=\"text-align: right;\">  160323</td><td>Some-college</td><td style=\"text-align: right;\">               10</td><td>Married-civ-spouse</td><td>Machine-op-inspct</td><td>Husband       </td><td>Black </td><td>Male    </td><td style=\"text-align: right;\">          7688</td><td style=\"text-align: right;\">             0</td><td style=\"text-align: right;\">              40</td><td>United-States   </td><td>>50K    </td></tr>\n",
       "<tr><td style=\"text-align: right;\">   18</td><td>?               </td><td style=\"text-align: right;\">  103497</td><td>Some-college</td><td style=\"text-align: right;\">               10</td><td>Never-married     </td><td>?                </td><td>Own-child     </td><td>White </td><td>Female  </td><td style=\"text-align: right;\">             0</td><td style=\"text-align: right;\">             0</td><td style=\"text-align: right;\">              30</td><td>United-States   </td><td><=50K   </td></tr>\n",
       "<tr><td style=\"text-align: right;\">   34</td><td>Private         </td><td style=\"text-align: right;\">  198693</td><td>10th        </td><td style=\"text-align: right;\">                6</td><td>Never-married     </td><td>Other-service    </td><td>Not-in-family </td><td>White </td><td>Male    </td><td style=\"text-align: right;\">             0</td><td style=\"text-align: right;\">             0</td><td style=\"text-align: right;\">              30</td><td>United-States   </td><td><=50K   </td></tr>\n",
       "<tr><td style=\"text-align: right;\">   29</td><td>?               </td><td style=\"text-align: right;\">  227026</td><td>HS-grad     </td><td style=\"text-align: right;\">                9</td><td>Never-married     </td><td>?                </td><td>Unmarried     </td><td>Black </td><td>Male    </td><td style=\"text-align: right;\">             0</td><td style=\"text-align: right;\">             0</td><td style=\"text-align: right;\">              40</td><td>United-States   </td><td><=50K   </td></tr>\n",
       "<tr><td style=\"text-align: right;\">   63</td><td>Self-emp-not-inc</td><td style=\"text-align: right;\">  104626</td><td>Prof-school </td><td style=\"text-align: right;\">               15</td><td>Married-civ-spouse</td><td>Prof-specialty   </td><td>Husband       </td><td>White </td><td>Male    </td><td style=\"text-align: right;\">          3103</td><td style=\"text-align: right;\">             0</td><td style=\"text-align: right;\">              32</td><td>United-States   </td><td>>50K    </td></tr>\n",
       "<tr><td style=\"text-align: right;\">   24</td><td>Private         </td><td style=\"text-align: right;\">  369667</td><td>Some-college</td><td style=\"text-align: right;\">               10</td><td>Never-married     </td><td>Other-service    </td><td>Unmarried     </td><td>White </td><td>Female  </td><td style=\"text-align: right;\">             0</td><td style=\"text-align: right;\">             0</td><td style=\"text-align: right;\">              40</td><td>United-States   </td><td><=50K   </td></tr>\n",
       "<tr><td style=\"text-align: right;\">   55</td><td>Private         </td><td style=\"text-align: right;\">  104996</td><td>7th-8th     </td><td style=\"text-align: right;\">                4</td><td>Married-civ-spouse</td><td>Craft-repair     </td><td>Husband       </td><td>White </td><td>Male    </td><td style=\"text-align: right;\">             0</td><td style=\"text-align: right;\">             0</td><td style=\"text-align: right;\">              10</td><td>United-States   </td><td><=50K   </td></tr>\n",
       "</tbody>\n",
       "</table>"
      ]
     },
     "metadata": {},
     "output_type": "display_data"
    },
    {
     "data": {
      "text/plain": []
     },
     "execution_count": 167,
     "metadata": {},
     "output_type": "execute_result"
    }
   ],
   "source": [
    "df.head()"
   ]
  },
  {
   "cell_type": "code",
   "execution_count": 168,
   "metadata": {},
   "outputs": [
    {
     "name": "stdout",
     "output_type": "stream",
     "text": [
      "Rows:48842\n",
      "Cols:15\n",
      "\n",
      "\n"
     ]
    },
    {
     "data": {
      "text/html": [
       "<table>\n",
       "<thead>\n",
       "<tr><th>       </th><th>age               </th><th>workclass       </th><th>fnlwgt            </th><th>education   </th><th>educational-num   </th><th>marital-status    </th><th>occupation       </th><th>relationship  </th><th>race  </th><th>gender  </th><th>capital-gain      </th><th>capital-loss      </th><th>hours-per-week    </th><th>native-country  </th><th>income  </th></tr>\n",
       "</thead>\n",
       "<tbody>\n",
       "<tr><td>type   </td><td>int               </td><td>enum            </td><td>int               </td><td>enum        </td><td>int               </td><td>enum              </td><td>enum             </td><td>enum          </td><td>enum  </td><td>enum    </td><td>int               </td><td>int               </td><td>int               </td><td>enum            </td><td>enum    </td></tr>\n",
       "<tr><td>mins   </td><td>17.0              </td><td>                </td><td>12285.0           </td><td>            </td><td>1.0               </td><td>                  </td><td>                 </td><td>              </td><td>      </td><td>        </td><td>0.0               </td><td>0.0               </td><td>1.0               </td><td>                </td><td>        </td></tr>\n",
       "<tr><td>mean   </td><td>38.643585438761704</td><td>                </td><td>189664.13459727284</td><td>            </td><td>10.078088530363212</td><td>                  </td><td>                 </td><td>              </td><td>      </td><td>        </td><td>1079.0676262233324</td><td>87.50231358257237 </td><td>40.42238237582409 </td><td>                </td><td>        </td></tr>\n",
       "<tr><td>maxs   </td><td>90.0              </td><td>                </td><td>1490400.0         </td><td>            </td><td>16.0              </td><td>                  </td><td>                 </td><td>              </td><td>      </td><td>        </td><td>99999.0           </td><td>4356.0            </td><td>99.0              </td><td>                </td><td>        </td></tr>\n",
       "<tr><td>sigma  </td><td>13.710509934443555</td><td>                </td><td>105604.02542315728</td><td>            </td><td>2.570972755592256 </td><td>                  </td><td>                 </td><td>              </td><td>      </td><td>        </td><td>7452.019057655393 </td><td>403.00455212435907</td><td>12.391444024252307</td><td>                </td><td>        </td></tr>\n",
       "<tr><td>zeros  </td><td>0                 </td><td>                </td><td>0                 </td><td>            </td><td>0                 </td><td>                  </td><td>                 </td><td>              </td><td>      </td><td>        </td><td>44807             </td><td>46560             </td><td>0                 </td><td>                </td><td>        </td></tr>\n",
       "<tr><td>missing</td><td>0                 </td><td>0               </td><td>0                 </td><td>0           </td><td>0                 </td><td>0                 </td><td>0                </td><td>0             </td><td>0     </td><td>0       </td><td>0                 </td><td>0                 </td><td>0                 </td><td>0               </td><td>0       </td></tr>\n",
       "<tr><td>0      </td><td>25.0              </td><td>Private         </td><td>226802.0          </td><td>11th        </td><td>7.0               </td><td>Never-married     </td><td>Machine-op-inspct</td><td>Own-child     </td><td>Black </td><td>Male    </td><td>0.0               </td><td>0.0               </td><td>40.0              </td><td>United-States   </td><td><=50K   </td></tr>\n",
       "<tr><td>1      </td><td>38.0              </td><td>Private         </td><td>89814.0           </td><td>HS-grad     </td><td>9.0               </td><td>Married-civ-spouse</td><td>Farming-fishing  </td><td>Husband       </td><td>White </td><td>Male    </td><td>0.0               </td><td>0.0               </td><td>50.0              </td><td>United-States   </td><td><=50K   </td></tr>\n",
       "<tr><td>2      </td><td>28.0              </td><td>Local-gov       </td><td>336951.0          </td><td>Assoc-acdm  </td><td>12.0              </td><td>Married-civ-spouse</td><td>Protective-serv  </td><td>Husband       </td><td>White </td><td>Male    </td><td>0.0               </td><td>0.0               </td><td>40.0              </td><td>United-States   </td><td>>50K    </td></tr>\n",
       "<tr><td>3      </td><td>44.0              </td><td>Private         </td><td>160323.0          </td><td>Some-college</td><td>10.0              </td><td>Married-civ-spouse</td><td>Machine-op-inspct</td><td>Husband       </td><td>Black </td><td>Male    </td><td>7688.0            </td><td>0.0               </td><td>40.0              </td><td>United-States   </td><td>>50K    </td></tr>\n",
       "<tr><td>4      </td><td>18.0              </td><td>?               </td><td>103497.0          </td><td>Some-college</td><td>10.0              </td><td>Never-married     </td><td>?                </td><td>Own-child     </td><td>White </td><td>Female  </td><td>0.0               </td><td>0.0               </td><td>30.0              </td><td>United-States   </td><td><=50K   </td></tr>\n",
       "<tr><td>5      </td><td>34.0              </td><td>Private         </td><td>198693.0          </td><td>10th        </td><td>6.0               </td><td>Never-married     </td><td>Other-service    </td><td>Not-in-family </td><td>White </td><td>Male    </td><td>0.0               </td><td>0.0               </td><td>30.0              </td><td>United-States   </td><td><=50K   </td></tr>\n",
       "<tr><td>6      </td><td>29.0              </td><td>?               </td><td>227026.0          </td><td>HS-grad     </td><td>9.0               </td><td>Never-married     </td><td>?                </td><td>Unmarried     </td><td>Black </td><td>Male    </td><td>0.0               </td><td>0.0               </td><td>40.0              </td><td>United-States   </td><td><=50K   </td></tr>\n",
       "<tr><td>7      </td><td>63.0              </td><td>Self-emp-not-inc</td><td>104626.0          </td><td>Prof-school </td><td>15.0              </td><td>Married-civ-spouse</td><td>Prof-specialty   </td><td>Husband       </td><td>White </td><td>Male    </td><td>3103.0            </td><td>0.0               </td><td>32.0              </td><td>United-States   </td><td>>50K    </td></tr>\n",
       "<tr><td>8      </td><td>24.0              </td><td>Private         </td><td>369667.0          </td><td>Some-college</td><td>10.0              </td><td>Never-married     </td><td>Other-service    </td><td>Unmarried     </td><td>White </td><td>Female  </td><td>0.0               </td><td>0.0               </td><td>40.0              </td><td>United-States   </td><td><=50K   </td></tr>\n",
       "<tr><td>9      </td><td>55.0              </td><td>Private         </td><td>104996.0          </td><td>7th-8th     </td><td>4.0               </td><td>Married-civ-spouse</td><td>Craft-repair     </td><td>Husband       </td><td>White </td><td>Male    </td><td>0.0               </td><td>0.0               </td><td>10.0              </td><td>United-States   </td><td><=50K   </td></tr>\n",
       "</tbody>\n",
       "</table>"
      ]
     },
     "metadata": {},
     "output_type": "display_data"
    }
   ],
   "source": [
    "\n",
    "df.describe()"
   ]
  },
  {
   "cell_type": "code",
   "execution_count": 169,
   "metadata": {},
   "outputs": [
    {
     "data": {
      "text/plain": [
       "'income'"
      ]
     },
     "execution_count": 169,
     "metadata": {},
     "output_type": "execute_result"
    }
   ],
   "source": [
    "# dependent variable\n",
    "# assign target and inputs for classification or regression\n",
    "if target==None:\n",
    "    target=df.columns[14]   \n",
    "y = target\n",
    "y"
   ]
  },
  {
   "cell_type": "code",
   "execution_count": 170,
   "metadata": {},
   "outputs": [],
   "source": [
    "x = list(df.columns)\n",
    "x.remove(y)\n",
    "x\n",
    "# Add independent variables\n",
    "\n",
    "meta_data['x']=x \n",
    "# impute missing values\n",
    "\n",
    "_=impute_missing_values(df,x, scale)\n"
   ]
  },
  {
   "cell_type": "code",
   "execution_count": null,
   "metadata": {},
   "outputs": [],
   "source": []
  },
  {
   "cell_type": "code",
   "execution_count": 171,
   "metadata": {},
   "outputs": [],
   "source": [
    "# # impute missing values\n",
    "\n",
    "# _ = df[ints].impute(method='median')\n",
    "\n",
    "# if scale:\n",
    "    \n",
    "#     df[ints] = df[ints].scale()"
   ]
  },
  {
   "cell_type": "code",
   "execution_count": 183,
   "metadata": {},
   "outputs": [],
   "source": [
    "if analysis == 3:\n",
    "  classification=False\n",
    "elif analysis == 2:\n",
    "  classification=True\n",
    "elif analysis == 1:\n",
    "  classification=True"
   ]
  },
  {
   "cell_type": "code",
   "execution_count": 184,
   "metadata": {},
   "outputs": [],
   "source": [
    "def check_y(y,df):\n",
    "  ok=False\n",
    "  C = [name for name in df.columns if name == y]\n",
    "  for key, val in df.types.items():\n",
    "    if key in C:\n",
    "      if val in ['real','int','enum']:        \n",
    "        ok=True         \n",
    "  return ok"
   ]
  },
  {
   "cell_type": "code",
   "execution_count": 186,
   "metadata": {},
   "outputs": [],
   "source": [
    "ok=check_y(y,df)\n",
    "if not ok:\n",
    "    print(ok)"
   ]
  },
  {
   "cell_type": "code",
   "execution_count": 187,
   "metadata": {},
   "outputs": [
    {
     "name": "stdout",
     "output_type": "stream",
     "text": [
      "[['<=50K', '>50K']]\n"
     ]
    }
   ],
   "source": [
    "classification=True\n",
    "if classification:\n",
    "    print(df[y].levels())"
   ]
  },
  {
   "cell_type": "code",
   "execution_count": 188,
   "metadata": {},
   "outputs": [],
   "source": [
    "def get_variables_types(df):\n",
    "    d={}\n",
    "    for key, val in df.types.items():\n",
    "        d[key]=val           \n",
    "    return d    "
   ]
  },
  {
   "cell_type": "code",
   "execution_count": 189,
   "metadata": {},
   "outputs": [
    {
     "data": {
      "text/plain": [
       "{'age': 'int',\n",
       " 'workclass': 'enum',\n",
       " 'fnlwgt': 'int',\n",
       " 'education': 'enum',\n",
       " 'educational-num': 'int',\n",
       " 'marital-status': 'enum',\n",
       " 'occupation': 'enum',\n",
       " 'relationship': 'enum',\n",
       " 'race': 'enum',\n",
       " 'gender': 'enum',\n",
       " 'capital-gain': 'int',\n",
       " 'capital-loss': 'int',\n",
       " 'hours-per-week': 'int',\n",
       " 'native-country': 'enum',\n",
       " 'income': 'enum'}"
      ]
     },
     "execution_count": 189,
     "metadata": {},
     "output_type": "execute_result"
    }
   ],
   "source": [
    "allV=get_variables_types(df)\n",
    "allV"
   ]
  },
  {
   "cell_type": "code",
   "execution_count": 190,
   "metadata": {},
   "outputs": [],
   "source": [
    "meta_data['variables']=allV"
   ]
  },
  {
   "cell_type": "code",
   "execution_count": 191,
   "metadata": {},
   "outputs": [],
   "source": [
    "# Set up AutoML\n",
    "\n",
    "aml = H2OAutoML(max_runtime_secs=run_time,project_name = name)"
   ]
  },
  {
   "cell_type": "code",
   "execution_count": 192,
   "metadata": {},
   "outputs": [],
   "source": [
    "model_start_time = time.time()"
   ]
  },
  {
   "cell_type": "code",
   "execution_count": 193,
   "metadata": {},
   "outputs": [
    {
     "name": "stdout",
     "output_type": "stream",
     "text": [
      "AutoML progress: |████████████████████████████████████████████████████████| 100%\n"
     ]
    }
   ],
   "source": [
    "aml.train(x=x,y=y,training_frame=df)"
   ]
  },
  {
   "cell_type": "code",
   "execution_count": 194,
   "metadata": {},
   "outputs": [],
   "source": [
    "meta_data['model_execution_time'] = time.time() - model_start_time"
   ]
  },
  {
   "cell_type": "code",
   "execution_count": 195,
   "metadata": {},
   "outputs": [],
   "source": [
    "# get leaderboard\n",
    "aml_leaderboard_df=aml.leaderboard.as_data_frame()"
   ]
  },
  {
   "cell_type": "code",
   "execution_count": 196,
   "metadata": {},
   "outputs": [
    {
     "data": {
      "text/html": [
       "<div>\n",
       "<style scoped>\n",
       "    .dataframe tbody tr th:only-of-type {\n",
       "        vertical-align: middle;\n",
       "    }\n",
       "\n",
       "    .dataframe tbody tr th {\n",
       "        vertical-align: top;\n",
       "    }\n",
       "\n",
       "    .dataframe thead th {\n",
       "        text-align: right;\n",
       "    }\n",
       "</style>\n",
       "<table border=\"1\" class=\"dataframe\">\n",
       "  <thead>\n",
       "    <tr style=\"text-align: right;\">\n",
       "      <th></th>\n",
       "      <th>model_id</th>\n",
       "      <th>auc</th>\n",
       "      <th>logloss</th>\n",
       "      <th>mean_per_class_error</th>\n",
       "      <th>rmse</th>\n",
       "      <th>mse</th>\n",
       "    </tr>\n",
       "  </thead>\n",
       "  <tbody>\n",
       "    <tr>\n",
       "      <th>0</th>\n",
       "      <td>GBM_2_AutoML_20190415_164309</td>\n",
       "      <td>0.928763</td>\n",
       "      <td>0.277231</td>\n",
       "      <td>0.167004</td>\n",
       "      <td>0.296432</td>\n",
       "      <td>0.087872</td>\n",
       "    </tr>\n",
       "    <tr>\n",
       "      <th>1</th>\n",
       "      <td>GBM_2_AutoML_20190415_164528</td>\n",
       "      <td>0.928615</td>\n",
       "      <td>0.277539</td>\n",
       "      <td>0.173465</td>\n",
       "      <td>0.296479</td>\n",
       "      <td>0.087900</td>\n",
       "    </tr>\n",
       "    <tr>\n",
       "      <th>2</th>\n",
       "      <td>StackedEnsemble_AllModels_AutoML_20190415_164309</td>\n",
       "      <td>0.928563</td>\n",
       "      <td>0.294461</td>\n",
       "      <td>0.176996</td>\n",
       "      <td>0.300726</td>\n",
       "      <td>0.090436</td>\n",
       "    </tr>\n",
       "    <tr>\n",
       "      <th>3</th>\n",
       "      <td>GBM_1_AutoML_20190415_164528</td>\n",
       "      <td>0.928524</td>\n",
       "      <td>0.277594</td>\n",
       "      <td>0.167987</td>\n",
       "      <td>0.296648</td>\n",
       "      <td>0.088000</td>\n",
       "    </tr>\n",
       "    <tr>\n",
       "      <th>4</th>\n",
       "      <td>GBM_1_AutoML_20190415_164309</td>\n",
       "      <td>0.928404</td>\n",
       "      <td>0.278311</td>\n",
       "      <td>0.167706</td>\n",
       "      <td>0.296534</td>\n",
       "      <td>0.087932</td>\n",
       "    </tr>\n",
       "    <tr>\n",
       "      <th>5</th>\n",
       "      <td>GBM_3_AutoML_20190415_164528</td>\n",
       "      <td>0.928247</td>\n",
       "      <td>0.278928</td>\n",
       "      <td>0.168976</td>\n",
       "      <td>0.296887</td>\n",
       "      <td>0.088142</td>\n",
       "    </tr>\n",
       "    <tr>\n",
       "      <th>6</th>\n",
       "      <td>StackedEnsemble_BestOfFamily_AutoML_20190415_164309</td>\n",
       "      <td>0.927830</td>\n",
       "      <td>0.295549</td>\n",
       "      <td>0.169280</td>\n",
       "      <td>0.301231</td>\n",
       "      <td>0.090740</td>\n",
       "    </tr>\n",
       "    <tr>\n",
       "      <th>7</th>\n",
       "      <td>GBM_3_AutoML_20190415_164309</td>\n",
       "      <td>0.925747</td>\n",
       "      <td>0.288488</td>\n",
       "      <td>0.173977</td>\n",
       "      <td>0.299740</td>\n",
       "      <td>0.089844</td>\n",
       "    </tr>\n",
       "    <tr>\n",
       "      <th>8</th>\n",
       "      <td>GBM_4_AutoML_20190415_164528</td>\n",
       "      <td>0.919004</td>\n",
       "      <td>0.329096</td>\n",
       "      <td>0.173070</td>\n",
       "      <td>0.315762</td>\n",
       "      <td>0.099706</td>\n",
       "    </tr>\n",
       "    <tr>\n",
       "      <th>9</th>\n",
       "      <td>GBM_4_AutoML_20190415_164309</td>\n",
       "      <td>0.918170</td>\n",
       "      <td>0.363044</td>\n",
       "      <td>0.180648</td>\n",
       "      <td>0.330738</td>\n",
       "      <td>0.109387</td>\n",
       "    </tr>\n",
       "    <tr>\n",
       "      <th>10</th>\n",
       "      <td>DRF_1_AutoML_20190415_164309</td>\n",
       "      <td>0.917351</td>\n",
       "      <td>0.306874</td>\n",
       "      <td>0.176972</td>\n",
       "      <td>0.306518</td>\n",
       "      <td>0.093953</td>\n",
       "    </tr>\n",
       "    <tr>\n",
       "      <th>11</th>\n",
       "      <td>DRF_1_AutoML_20190415_164528</td>\n",
       "      <td>0.916732</td>\n",
       "      <td>0.308143</td>\n",
       "      <td>0.188662</td>\n",
       "      <td>0.307316</td>\n",
       "      <td>0.094443</td>\n",
       "    </tr>\n",
       "    <tr>\n",
       "      <th>12</th>\n",
       "      <td>GLM_grid_1_AutoML_20190415_164309_model_1</td>\n",
       "      <td>0.906797</td>\n",
       "      <td>0.317975</td>\n",
       "      <td>0.197513</td>\n",
       "      <td>0.318892</td>\n",
       "      <td>0.101692</td>\n",
       "    </tr>\n",
       "    <tr>\n",
       "      <th>13</th>\n",
       "      <td>GLM_grid_1_AutoML_20190415_164528_model_1</td>\n",
       "      <td>0.906786</td>\n",
       "      <td>0.317975</td>\n",
       "      <td>0.197651</td>\n",
       "      <td>0.318892</td>\n",
       "      <td>0.101692</td>\n",
       "    </tr>\n",
       "    <tr>\n",
       "      <th>14</th>\n",
       "      <td>GBM_5_AutoML_20190415_164528</td>\n",
       "      <td>0.882804</td>\n",
       "      <td>0.486522</td>\n",
       "      <td>0.206110</td>\n",
       "      <td>0.396944</td>\n",
       "      <td>0.157565</td>\n",
       "    </tr>\n",
       "  </tbody>\n",
       "</table>\n",
       "</div>"
      ],
      "text/plain": [
       "                                               model_id       auc   logloss  \\\n",
       "0                          GBM_2_AutoML_20190415_164309  0.928763  0.277231   \n",
       "1                          GBM_2_AutoML_20190415_164528  0.928615  0.277539   \n",
       "2      StackedEnsemble_AllModels_AutoML_20190415_164309  0.928563  0.294461   \n",
       "3                          GBM_1_AutoML_20190415_164528  0.928524  0.277594   \n",
       "4                          GBM_1_AutoML_20190415_164309  0.928404  0.278311   \n",
       "5                          GBM_3_AutoML_20190415_164528  0.928247  0.278928   \n",
       "6   StackedEnsemble_BestOfFamily_AutoML_20190415_164309  0.927830  0.295549   \n",
       "7                          GBM_3_AutoML_20190415_164309  0.925747  0.288488   \n",
       "8                          GBM_4_AutoML_20190415_164528  0.919004  0.329096   \n",
       "9                          GBM_4_AutoML_20190415_164309  0.918170  0.363044   \n",
       "10                         DRF_1_AutoML_20190415_164309  0.917351  0.306874   \n",
       "11                         DRF_1_AutoML_20190415_164528  0.916732  0.308143   \n",
       "12            GLM_grid_1_AutoML_20190415_164309_model_1  0.906797  0.317975   \n",
       "13            GLM_grid_1_AutoML_20190415_164528_model_1  0.906786  0.317975   \n",
       "14                         GBM_5_AutoML_20190415_164528  0.882804  0.486522   \n",
       "\n",
       "    mean_per_class_error      rmse       mse  \n",
       "0               0.167004  0.296432  0.087872  \n",
       "1               0.173465  0.296479  0.087900  \n",
       "2               0.176996  0.300726  0.090436  \n",
       "3               0.167987  0.296648  0.088000  \n",
       "4               0.167706  0.296534  0.087932  \n",
       "5               0.168976  0.296887  0.088142  \n",
       "6               0.169280  0.301231  0.090740  \n",
       "7               0.173977  0.299740  0.089844  \n",
       "8               0.173070  0.315762  0.099706  \n",
       "9               0.180648  0.330738  0.109387  \n",
       "10              0.176972  0.306518  0.093953  \n",
       "11              0.188662  0.307316  0.094443  \n",
       "12              0.197513  0.318892  0.101692  \n",
       "13              0.197651  0.318892  0.101692  \n",
       "14              0.206110  0.396944  0.157565  "
      ]
     },
     "execution_count": 196,
     "metadata": {},
     "output_type": "execute_result"
    }
   ],
   "source": [
    "aml_leaderboard_df"
   ]
  },
  {
   "cell_type": "code",
   "execution_count": 197,
   "metadata": {},
   "outputs": [],
   "source": [
    "# STart best model as first model\n",
    "\n",
    "model_set=aml_leaderboard_df['model_id']\n",
    "mod_best=h2o.get_model(model_set[0])"
   ]
  },
  {
   "cell_type": "code",
   "execution_count": 198,
   "metadata": {},
   "outputs": [
    {
     "data": {
      "text/plain": [
       "'GBM_2_AutoML_20190415_164309'"
      ]
     },
     "execution_count": 198,
     "metadata": {},
     "output_type": "execute_result"
    }
   ],
   "source": [
    "mod_best._id"
   ]
  },
  {
   "cell_type": "code",
   "execution_count": 199,
   "metadata": {},
   "outputs": [],
   "source": [
    "# Get stacked ensemble  \n",
    "def get_stacked_ensemble(lst):\n",
    "    se=None\n",
    "    for model in model_set:\n",
    "      if 'BestOfFamily' in model:\n",
    "        se=model\n",
    "    if se is None:     \n",
    "      for model in model_set:\n",
    "        if 'AllModels'in model:\n",
    "          se=model           \n",
    "    return se       \n",
    "    \n",
    "se=get_stacked_ensemble(model_set)"
   ]
  },
  {
   "cell_type": "code",
   "execution_count": 200,
   "metadata": {},
   "outputs": [
    {
     "name": "stdout",
     "output_type": "stream",
     "text": [
      "StackedEnsemble_BestOfFamily_AutoML_20190415_164309\n"
     ]
    }
   ],
   "source": [
    "print(se)"
   ]
  },
  {
   "cell_type": "code",
   "execution_count": 201,
   "metadata": {},
   "outputs": [],
   "source": [
    "if se is not None:\n",
    "  mod_best=h2o.get_model(se)"
   ]
  },
  {
   "cell_type": "code",
   "execution_count": 202,
   "metadata": {},
   "outputs": [
    {
     "data": {
      "text/plain": [
       "['F0point5',\n",
       " 'F1',\n",
       " 'F2',\n",
       " '__class__',\n",
       " '__delattr__',\n",
       " '__dict__',\n",
       " '__dir__',\n",
       " '__doc__',\n",
       " '__eq__',\n",
       " '__format__',\n",
       " '__ge__',\n",
       " '__getattr__',\n",
       " '__getattribute__',\n",
       " '__gt__',\n",
       " '__hash__',\n",
       " '__init__',\n",
       " '__init_subclass__',\n",
       " '__le__',\n",
       " '__lt__',\n",
       " '__module__',\n",
       " '__ne__',\n",
       " '__new__',\n",
       " '__reduce__',\n",
       " '__reduce_ex__',\n",
       " '__repr__',\n",
       " '__setattr__',\n",
       " '__sizeof__',\n",
       " '__str__',\n",
       " '__subclasshook__',\n",
       " '__weakref__',\n",
       " '_bc',\n",
       " '_bcin',\n",
       " '_check_and_save_parm',\n",
       " '_check_targets',\n",
       " '_compute_algo',\n",
       " '_end_time',\n",
       " '_estimator_type',\n",
       " '_future',\n",
       " '_get_metrics',\n",
       " '_have_mojo',\n",
       " '_have_pojo',\n",
       " '_id',\n",
       " '_is_xvalidated',\n",
       " '_job',\n",
       " '_keyify_if_h2oframe',\n",
       " '_metrics_class',\n",
       " '_model_json',\n",
       " '_parms',\n",
       " '_plot',\n",
       " '_requires_training_frame',\n",
       " '_resolve_model',\n",
       " '_run_time',\n",
       " '_start_time',\n",
       " '_train',\n",
       " '_verify_training_frame_params',\n",
       " '_xval_keys',\n",
       " 'accuracy',\n",
       " 'actual_params',\n",
       " 'aic',\n",
       " 'algo',\n",
       " 'auc',\n",
       " 'base_models',\n",
       " 'biases',\n",
       " 'blending_frame',\n",
       " 'catoffsets',\n",
       " 'coef',\n",
       " 'coef_norm',\n",
       " 'confusion_matrix',\n",
       " 'convert_H2OXGBoostParams_2_XGBoostParams',\n",
       " 'cross_validation_fold_assignment',\n",
       " 'cross_validation_holdout_predictions',\n",
       " 'cross_validation_metrics_summary',\n",
       " 'cross_validation_models',\n",
       " 'cross_validation_predictions',\n",
       " 'deepfeatures',\n",
       " 'default_params',\n",
       " 'download_mojo',\n",
       " 'download_pojo',\n",
       " 'end_time',\n",
       " 'error',\n",
       " 'export_checkpoints_dir',\n",
       " 'fallout',\n",
       " 'find_idx_by_threshold',\n",
       " 'find_threshold_by_max_metric',\n",
       " 'fit',\n",
       " 'fnr',\n",
       " 'fpr',\n",
       " 'full_parameters',\n",
       " 'gains_lift',\n",
       " 'get_params',\n",
       " 'get_xval_models',\n",
       " 'gini',\n",
       " 'have_mojo',\n",
       " 'have_pojo',\n",
       " 'is_cross_validated',\n",
       " 'join',\n",
       " 'keep_levelone_frame',\n",
       " 'levelone_frame_id',\n",
       " 'logloss',\n",
       " 'mae',\n",
       " 'max_per_class_error',\n",
       " 'mcc',\n",
       " 'mean_per_class_error',\n",
       " 'mean_residual_deviance',\n",
       " 'metalearner',\n",
       " 'metalearner_algorithm',\n",
       " 'metalearner_fold_assignment',\n",
       " 'metalearner_fold_column',\n",
       " 'metalearner_nfolds',\n",
       " 'metalearner_params',\n",
       " 'metric',\n",
       " 'missrate',\n",
       " 'mixin',\n",
       " 'model_id',\n",
       " 'model_performance',\n",
       " 'mse',\n",
       " 'normmul',\n",
       " 'normsub',\n",
       " 'null_degrees_of_freedom',\n",
       " 'null_deviance',\n",
       " 'params',\n",
       " 'parms',\n",
       " 'partial_plot',\n",
       " 'plot',\n",
       " 'pprint_coef',\n",
       " 'precision',\n",
       " 'predict',\n",
       " 'predict_contributions',\n",
       " 'predict_leaf_node_assignment',\n",
       " 'r2',\n",
       " 'recall',\n",
       " 'residual_degrees_of_freedom',\n",
       " 'residual_deviance',\n",
       " 'respmul',\n",
       " 'response_column',\n",
       " 'respsub',\n",
       " 'rmse',\n",
       " 'rmsle',\n",
       " 'roc',\n",
       " 'rotation',\n",
       " 'run_time',\n",
       " 'save_model_details',\n",
       " 'save_mojo',\n",
       " 'score_history',\n",
       " 'scoring_history',\n",
       " 'seed',\n",
       " 'sensitivity',\n",
       " 'set_params',\n",
       " 'show',\n",
       " 'specificity',\n",
       " 'stacking_strategy',\n",
       " 'staged_predict_proba',\n",
       " 'start',\n",
       " 'start_time',\n",
       " 'std_coef_plot',\n",
       " 'summary',\n",
       " 'tnr',\n",
       " 'tpr',\n",
       " 'train',\n",
       " 'training_frame',\n",
       " 'type',\n",
       " 'validation_frame',\n",
       " 'varimp',\n",
       " 'varimp_plot',\n",
       " 'weights',\n",
       " 'xval_keys',\n",
       " 'xvals']"
      ]
     },
     "execution_count": 202,
     "metadata": {},
     "output_type": "execute_result"
    }
   ],
   "source": [
    "\n",
    "dir(mod_best)"
   ]
  },
  {
   "cell_type": "code",
   "execution_count": 203,
   "metadata": {},
   "outputs": [
    {
     "data": {
      "text/plain": [
       "'StackedEnsemble_BestOfFamily_AutoML_20190415_164309'"
      ]
     },
     "execution_count": 203,
     "metadata": {},
     "output_type": "execute_result"
    }
   ],
   "source": [
    "mod_best._id"
   ]
  },
  {
   "cell_type": "code",
   "execution_count": 204,
   "metadata": {},
   "outputs": [
    {
     "data": {
      "text/plain": [
       "<function h2o.model.model_base.ModelBase._get_metrics(o, train, valid, xval)>"
      ]
     },
     "execution_count": 204,
     "metadata": {},
     "output_type": "execute_result"
    }
   ],
   "source": [
    "mod_best._get_metrics"
   ]
  },
  {
   "cell_type": "code",
   "execution_count": 205,
   "metadata": {},
   "outputs": [
    {
     "data": {
      "text/plain": [
       "h2o.estimators.stackedensemble.H2OStackedEnsembleEstimator"
      ]
     },
     "execution_count": 205,
     "metadata": {},
     "output_type": "execute_result"
    }
   ],
   "source": [
    "type(mod_best)"
   ]
  },
  {
   "cell_type": "code",
   "execution_count": 206,
   "metadata": {},
   "outputs": [
    {
     "name": "stdout",
     "output_type": "stream",
     "text": [
      "Model Details\n",
      "=============\n",
      "H2OStackedEnsembleEstimator :  Stacked Ensemble\n",
      "Model Key:  StackedEnsemble_BestOfFamily_AutoML_20190415_164309\n",
      "No model summary for this model\n",
      "\n",
      "\n",
      "ModelMetricsBinomialGLM: stackedensemble\n",
      "** Reported on train data. **\n",
      "\n",
      "MSE: 0.0736600356819248\n",
      "RMSE: 0.2714038240001876\n",
      "LogLoss: 0.24454375975837792\n",
      "Null degrees of freedom: 48841\n",
      "Residual degrees of freedom: 48838\n",
      "Null deviance: 53750.68147229072\n",
      "Residual deviance: 23888.01262823739\n",
      "AIC: 23896.01262823739\n",
      "AUC: 0.9559127280066483\n",
      "pr_auc: 0.840407477798703\n",
      "Gini: 0.9118254560132966\n",
      "Confusion Matrix (Act/Pred) for max f1 @ threshold = 0.2970655986423669: \n"
     ]
    },
    {
     "data": {
      "text/html": [
       "<div style=\"overflow:auto\"><table style=\"width:50%\"><tr><td><b></b></td>\n",
       "<td><b><=50K</b></td>\n",
       "<td><b>>50K</b></td>\n",
       "<td><b>Error</b></td>\n",
       "<td><b>Rate</b></td></tr>\n",
       "<tr><td><=50K</td>\n",
       "<td>33880.0</td>\n",
       "<td>3275.0</td>\n",
       "<td>0.0881</td>\n",
       "<td> (3275.0/37155.0)</td></tr>\n",
       "<tr><td>>50K</td>\n",
       "<td>2148.0</td>\n",
       "<td>9539.0</td>\n",
       "<td>0.1838</td>\n",
       "<td> (2148.0/11687.0)</td></tr>\n",
       "<tr><td>Total</td>\n",
       "<td>36028.0</td>\n",
       "<td>12814.0</td>\n",
       "<td>0.111</td>\n",
       "<td> (5423.0/48842.0)</td></tr></table></div>"
      ],
      "text/plain": [
       "       <=50K    >50K    Error    Rate\n",
       "-----  -------  ------  -------  ----------------\n",
       "<=50K  33880    3275    0.0881   (3275.0/37155.0)\n",
       ">50K   2148     9539    0.1838   (2148.0/11687.0)\n",
       "Total  36028    12814   0.111    (5423.0/48842.0)"
      ]
     },
     "metadata": {},
     "output_type": "display_data"
    },
    {
     "name": "stdout",
     "output_type": "stream",
     "text": [
      "Maximum Metrics: Maximum metrics at their respective thresholds\n",
      "\n"
     ]
    },
    {
     "data": {
      "text/html": [
       "<div style=\"overflow:auto\"><table style=\"width:50%\"><tr><td><b>metric</b></td>\n",
       "<td><b>threshold</b></td>\n",
       "<td><b>value</b></td>\n",
       "<td><b>idx</b></td></tr>\n",
       "<tr><td>max f1</td>\n",
       "<td>0.2970656</td>\n",
       "<td>0.7786621</td>\n",
       "<td>245.0</td></tr>\n",
       "<tr><td>max f2</td>\n",
       "<td>0.1200239</td>\n",
       "<td>0.8519735</td>\n",
       "<td>324.0</td></tr>\n",
       "<tr><td>max f0point5</td>\n",
       "<td>0.6736415</td>\n",
       "<td>0.8150871</td>\n",
       "<td>120.0</td></tr>\n",
       "<tr><td>max accuracy</td>\n",
       "<td>0.4193484</td>\n",
       "<td>0.8953565</td>\n",
       "<td>199.0</td></tr>\n",
       "<tr><td>max precision</td>\n",
       "<td>0.9633192</td>\n",
       "<td>1.0</td>\n",
       "<td>0.0</td></tr>\n",
       "<tr><td>max recall</td>\n",
       "<td>0.0419706</td>\n",
       "<td>1.0</td>\n",
       "<td>386.0</td></tr>\n",
       "<tr><td>max specificity</td>\n",
       "<td>0.9633192</td>\n",
       "<td>1.0</td>\n",
       "<td>0.0</td></tr>\n",
       "<tr><td>max absolute_mcc</td>\n",
       "<td>0.4193484</td>\n",
       "<td>0.7066471</td>\n",
       "<td>199.0</td></tr>\n",
       "<tr><td>max min_per_class_accuracy</td>\n",
       "<td>0.2056475</td>\n",
       "<td>0.8752460</td>\n",
       "<td>282.0</td></tr>\n",
       "<tr><td>max mean_per_class_accuracy</td>\n",
       "<td>0.1332593</td>\n",
       "<td>0.8801255</td>\n",
       "<td>317.0</td></tr></table></div>"
      ],
      "text/plain": [
       "metric                       threshold    value     idx\n",
       "---------------------------  -----------  --------  -----\n",
       "max f1                       0.297066     0.778662  245\n",
       "max f2                       0.120024     0.851973  324\n",
       "max f0point5                 0.673642     0.815087  120\n",
       "max accuracy                 0.419348     0.895356  199\n",
       "max precision                0.963319     1         0\n",
       "max recall                   0.0419706    1         386\n",
       "max specificity              0.963319     1         0\n",
       "max absolute_mcc             0.419348     0.706647  199\n",
       "max min_per_class_accuracy   0.205648     0.875246  282\n",
       "max mean_per_class_accuracy  0.133259     0.880125  317"
      ]
     },
     "metadata": {},
     "output_type": "display_data"
    },
    {
     "name": "stdout",
     "output_type": "stream",
     "text": [
      "Gains/Lift Table: Avg response rate: 23.93 %, avg score: 24.10 %\n",
      "\n"
     ]
    },
    {
     "data": {
      "text/html": [
       "<div style=\"overflow:auto\"><table style=\"width:50%\"><tr><td><b></b></td>\n",
       "<td><b>group</b></td>\n",
       "<td><b>cumulative_data_fraction</b></td>\n",
       "<td><b>lower_threshold</b></td>\n",
       "<td><b>lift</b></td>\n",
       "<td><b>cumulative_lift</b></td>\n",
       "<td><b>response_rate</b></td>\n",
       "<td><b>score</b></td>\n",
       "<td><b>cumulative_response_rate</b></td>\n",
       "<td><b>cumulative_score</b></td>\n",
       "<td><b>capture_rate</b></td>\n",
       "<td><b>cumulative_capture_rate</b></td>\n",
       "<td><b>gain</b></td>\n",
       "<td><b>cumulative_gain</b></td></tr>\n",
       "<tr><td></td>\n",
       "<td>1</td>\n",
       "<td>0.0100119</td>\n",
       "<td>0.9630152</td>\n",
       "<td>4.1791734</td>\n",
       "<td>4.1791734</td>\n",
       "<td>1.0</td>\n",
       "<td>0.9633697</td>\n",
       "<td>1.0</td>\n",
       "<td>0.9633697</td>\n",
       "<td>0.0418414</td>\n",
       "<td>0.0418414</td>\n",
       "<td>317.9173441</td>\n",
       "<td>317.9173441</td></tr>\n",
       "<tr><td></td>\n",
       "<td>2</td>\n",
       "<td>0.0200033</td>\n",
       "<td>0.9620485</td>\n",
       "<td>4.1791734</td>\n",
       "<td>4.1791734</td>\n",
       "<td>1.0</td>\n",
       "<td>0.9625726</td>\n",
       "<td>1.0</td>\n",
       "<td>0.9629716</td>\n",
       "<td>0.0417558</td>\n",
       "<td>0.0835972</td>\n",
       "<td>317.9173441</td>\n",
       "<td>317.9173441</td></tr>\n",
       "<tr><td></td>\n",
       "<td>3</td>\n",
       "<td>0.0300152</td>\n",
       "<td>0.9607440</td>\n",
       "<td>4.1791734</td>\n",
       "<td>4.1791734</td>\n",
       "<td>1.0</td>\n",
       "<td>0.9614060</td>\n",
       "<td>1.0</td>\n",
       "<td>0.9624493</td>\n",
       "<td>0.0418414</td>\n",
       "<td>0.1254385</td>\n",
       "<td>317.9173441</td>\n",
       "<td>317.9173441</td></tr>\n",
       "<tr><td></td>\n",
       "<td>4</td>\n",
       "<td>0.0400066</td>\n",
       "<td>0.9592158</td>\n",
       "<td>4.1791734</td>\n",
       "<td>4.1791734</td>\n",
       "<td>1.0</td>\n",
       "<td>0.9600329</td>\n",
       "<td>1.0</td>\n",
       "<td>0.9618459</td>\n",
       "<td>0.0417558</td>\n",
       "<td>0.1671943</td>\n",
       "<td>317.9173441</td>\n",
       "<td>317.9173441</td></tr>\n",
       "<tr><td></td>\n",
       "<td>5</td>\n",
       "<td>0.0500184</td>\n",
       "<td>0.9556226</td>\n",
       "<td>4.1791734</td>\n",
       "<td>4.1791734</td>\n",
       "<td>1.0</td>\n",
       "<td>0.9576085</td>\n",
       "<td>1.0</td>\n",
       "<td>0.9609977</td>\n",
       "<td>0.0418414</td>\n",
       "<td>0.2090357</td>\n",
       "<td>317.9173441</td>\n",
       "<td>317.9173441</td></tr>\n",
       "<tr><td></td>\n",
       "<td>6</td>\n",
       "<td>0.1000164</td>\n",
       "<td>0.8669762</td>\n",
       "<td>3.9635404</td>\n",
       "<td>4.0713790</td>\n",
       "<td>0.9484029</td>\n",
       "<td>0.9140755</td>\n",
       "<td>0.9742068</td>\n",
       "<td>0.9375414</td>\n",
       "<td>0.1981689</td>\n",
       "<td>0.4072046</td>\n",
       "<td>296.3540413</td>\n",
       "<td>307.1378998</td></tr>\n",
       "<tr><td></td>\n",
       "<td>7</td>\n",
       "<td>0.1500143</td>\n",
       "<td>0.7279977</td>\n",
       "<td>3.2789911</td>\n",
       "<td>3.8072858</td>\n",
       "<td>0.7846028</td>\n",
       "<td>0.8071246</td>\n",
       "<td>0.9110141</td>\n",
       "<td>0.8940751</td>\n",
       "<td>0.1639428</td>\n",
       "<td>0.5711474</td>\n",
       "<td>227.8991119</td>\n",
       "<td>280.7285753</td></tr>\n",
       "<tr><td></td>\n",
       "<td>8</td>\n",
       "<td>0.2000123</td>\n",
       "<td>0.5095689</td>\n",
       "<td>2.5448120</td>\n",
       "<td>3.4916996</td>\n",
       "<td>0.6089271</td>\n",
       "<td>0.6238179</td>\n",
       "<td>0.8355001</td>\n",
       "<td>0.8265177</td>\n",
       "<td>0.1272354</td>\n",
       "<td>0.6983828</td>\n",
       "<td>154.4812001</td>\n",
       "<td>249.1699624</td></tr>\n",
       "<tr><td></td>\n",
       "<td>9</td>\n",
       "<td>0.3000082</td>\n",
       "<td>0.2117935</td>\n",
       "<td>1.7267756</td>\n",
       "<td>2.9034318</td>\n",
       "<td>0.4131859</td>\n",
       "<td>0.3399013</td>\n",
       "<td>0.6947383</td>\n",
       "<td>0.6643233</td>\n",
       "<td>0.1726705</td>\n",
       "<td>0.8710533</td>\n",
       "<td>72.6775594</td>\n",
       "<td>190.3431763</td></tr>\n",
       "<tr><td></td>\n",
       "<td>10</td>\n",
       "<td>0.4000041</td>\n",
       "<td>0.0930005</td>\n",
       "<td>0.9241415</td>\n",
       "<td>2.4086345</td>\n",
       "<td>0.2211302</td>\n",
       "<td>0.1417071</td>\n",
       "<td>0.5763423</td>\n",
       "<td>0.5336760</td>\n",
       "<td>0.0924104</td>\n",
       "<td>0.9634637</td>\n",
       "<td>-7.5858453</td>\n",
       "<td>140.8634537</td></tr>\n",
       "<tr><td></td>\n",
       "<td>11</td>\n",
       "<td>0.5</td>\n",
       "<td>0.0566524</td>\n",
       "<td>0.3037687</td>\n",
       "<td>1.9876786</td>\n",
       "<td>0.0726863</td>\n",
       "<td>0.0717545</td>\n",
       "<td>0.4756152</td>\n",
       "<td>0.4412955</td>\n",
       "<td>0.0303756</td>\n",
       "<td>0.9938393</td>\n",
       "<td>-69.6231251</td>\n",
       "<td>98.7678617</td></tr>\n",
       "<tr><td></td>\n",
       "<td>12</td>\n",
       "<td>0.5999959</td>\n",
       "<td>0.0444366</td>\n",
       "<td>0.0590424</td>\n",
       "<td>1.6662502</td>\n",
       "<td>0.0141278</td>\n",
       "<td>0.0495848</td>\n",
       "<td>0.3987033</td>\n",
       "<td>0.3760126</td>\n",
       "<td>0.0059040</td>\n",
       "<td>0.9997433</td>\n",
       "<td>-94.0957623</td>\n",
       "<td>66.6250213</td></tr>\n",
       "<tr><td></td>\n",
       "<td>13</td>\n",
       "<td>0.6999918</td>\n",
       "<td>0.0397685</td>\n",
       "<td>0.0025671</td>\n",
       "<td>1.4285881</td>\n",
       "<td>0.0006143</td>\n",
       "<td>0.0417045</td>\n",
       "<td>0.3418351</td>\n",
       "<td>0.3282557</td>\n",
       "<td>0.0002567</td>\n",
       "<td>1.0</td>\n",
       "<td>-99.7432940</td>\n",
       "<td>42.8588142</td></tr>\n",
       "<tr><td></td>\n",
       "<td>14</td>\n",
       "<td>0.7999877</td>\n",
       "<td>0.0378150</td>\n",
       "<td>0.0</td>\n",
       "<td>1.2500192</td>\n",
       "<td>0.0</td>\n",
       "<td>0.0386944</td>\n",
       "<td>0.2991068</td>\n",
       "<td>0.2920614</td>\n",
       "<td>0.0</td>\n",
       "<td>1.0</td>\n",
       "<td>-100.0</td>\n",
       "<td>25.0019195</td></tr>\n",
       "<tr><td></td>\n",
       "<td>15</td>\n",
       "<td>0.8999836</td>\n",
       "<td>0.0367071</td>\n",
       "<td>0.0</td>\n",
       "<td>1.1111313</td>\n",
       "<td>0.0</td>\n",
       "<td>0.0372107</td>\n",
       "<td>0.2658735</td>\n",
       "<td>0.2637453</td>\n",
       "<td>0.0</td>\n",
       "<td>1.0</td>\n",
       "<td>-100.0</td>\n",
       "<td>11.1131333</td></tr>\n",
       "<tr><td></td>\n",
       "<td>16</td>\n",
       "<td>1.0</td>\n",
       "<td>0.0360030</td>\n",
       "<td>0.0</td>\n",
       "<td>1.0</td>\n",
       "<td>0.0</td>\n",
       "<td>0.0364303</td>\n",
       "<td>0.2392818</td>\n",
       "<td>0.2410101</td>\n",
       "<td>0.0</td>\n",
       "<td>1.0</td>\n",
       "<td>-100.0</td>\n",
       "<td>0.0</td></tr></table></div>"
      ],
      "text/plain": [
       "    group    cumulative_data_fraction    lower_threshold    lift        cumulative_lift    response_rate    score      cumulative_response_rate    cumulative_score    capture_rate    cumulative_capture_rate    gain      cumulative_gain\n",
       "--  -------  --------------------------  -----------------  ----------  -----------------  ---------------  ---------  --------------------------  ------------------  --------------  -------------------------  --------  -----------------\n",
       "    1        0.0100119                   0.963015           4.17917     4.17917            1                0.96337    1                           0.96337             0.0418414       0.0418414                  317.917   317.917\n",
       "    2        0.0200033                   0.962048           4.17917     4.17917            1                0.962573   1                           0.962972            0.0417558       0.0835972                  317.917   317.917\n",
       "    3        0.0300152                   0.960744           4.17917     4.17917            1                0.961406   1                           0.962449            0.0418414       0.125439                   317.917   317.917\n",
       "    4        0.0400066                   0.959216           4.17917     4.17917            1                0.960033   1                           0.961846            0.0417558       0.167194                   317.917   317.917\n",
       "    5        0.0500184                   0.955623           4.17917     4.17917            1                0.957609   1                           0.960998            0.0418414       0.209036                   317.917   317.917\n",
       "    6        0.100016                    0.866976           3.96354     4.07138            0.948403         0.914076   0.974207                    0.937541            0.198169        0.407205                   296.354   307.138\n",
       "    7        0.150014                    0.727998           3.27899     3.80729            0.784603         0.807125   0.911014                    0.894075            0.163943        0.571147                   227.899   280.729\n",
       "    8        0.200012                    0.509569           2.54481     3.4917             0.608927         0.623818   0.8355                      0.826518            0.127235        0.698383                   154.481   249.17\n",
       "    9        0.300008                    0.211793           1.72678     2.90343            0.413186         0.339901   0.694738                    0.664323            0.17267         0.871053                   72.6776   190.343\n",
       "    10       0.400004                    0.0930005          0.924142    2.40863            0.22113          0.141707   0.576342                    0.533676            0.0924104       0.963464                   -7.58585  140.863\n",
       "    11       0.5                         0.0566524          0.303769    1.98768            0.0726863        0.0717545  0.475615                    0.441295            0.0303756       0.993839                   -69.6231  98.7679\n",
       "    12       0.599996                    0.0444366          0.0590424   1.66625            0.0141278        0.0495848  0.398703                    0.376013            0.005904        0.999743                   -94.0958  66.625\n",
       "    13       0.699992                    0.0397685          0.00256706  1.42859            0.000614251      0.0417045  0.341835                    0.328256            0.000256695     1                          -99.7433  42.8588\n",
       "    14       0.799988                    0.037815           0           1.25002            0                0.0386944  0.299107                    0.292061            0               1                          -100      25.0019\n",
       "    15       0.899984                    0.0367071          0           1.11113            0                0.0372107  0.265873                    0.263745            0               1                          -100      11.1131\n",
       "    16       1                           0.036003           0           1                  0                0.0364303  0.239282                    0.24101             0               1                          -100      0"
      ]
     },
     "metadata": {},
     "output_type": "display_data"
    },
    {
     "name": "stdout",
     "output_type": "stream",
     "text": [
      "\n",
      "\n",
      "ModelMetricsBinomialGLM: stackedensemble\n",
      "** Reported on cross-validation data. **\n",
      "\n",
      "MSE: 0.09074019937847852\n",
      "RMSE: 0.3012311394568605\n",
      "LogLoss: 0.2955494930246149\n",
      "Null degrees of freedom: 48841\n",
      "Residual degrees of freedom: 48838\n",
      "Null deviance: 53753.71062321005\n",
      "Residual deviance: 28870.456676616486\n",
      "AIC: 28878.456676616486\n",
      "AUC: 0.9278303502804507\n",
      "pr_auc: 0.815419690096942\n",
      "Gini: 0.8556607005609014\n",
      "Confusion Matrix (Act/Pred) for max f1 @ threshold = 0.2853130305217313: \n"
     ]
    },
    {
     "data": {
      "text/html": [
       "<div style=\"overflow:auto\"><table style=\"width:50%\"><tr><td><b></b></td>\n",
       "<td><b><=50K</b></td>\n",
       "<td><b>>50K</b></td>\n",
       "<td><b>Error</b></td>\n",
       "<td><b>Rate</b></td></tr>\n",
       "<tr><td><=50K</td>\n",
       "<td>33150.0</td>\n",
       "<td>4005.0</td>\n",
       "<td>0.1078</td>\n",
       "<td> (4005.0/37155.0)</td></tr>\n",
       "<tr><td>>50K</td>\n",
       "<td>2697.0</td>\n",
       "<td>8990.0</td>\n",
       "<td>0.2308</td>\n",
       "<td> (2697.0/11687.0)</td></tr>\n",
       "<tr><td>Total</td>\n",
       "<td>35847.0</td>\n",
       "<td>12995.0</td>\n",
       "<td>0.1372</td>\n",
       "<td> (6702.0/48842.0)</td></tr></table></div>"
      ],
      "text/plain": [
       "       <=50K    >50K    Error    Rate\n",
       "-----  -------  ------  -------  ----------------\n",
       "<=50K  33150    4005    0.1078   (4005.0/37155.0)\n",
       ">50K   2697     8990    0.2308   (2697.0/11687.0)\n",
       "Total  35847    12995   0.1372   (6702.0/48842.0)"
      ]
     },
     "metadata": {},
     "output_type": "display_data"
    },
    {
     "name": "stdout",
     "output_type": "stream",
     "text": [
      "Maximum Metrics: Maximum metrics at their respective thresholds\n",
      "\n"
     ]
    },
    {
     "data": {
      "text/html": [
       "<div style=\"overflow:auto\"><table style=\"width:50%\"><tr><td><b>metric</b></td>\n",
       "<td><b>threshold</b></td>\n",
       "<td><b>value</b></td>\n",
       "<td><b>idx</b></td></tr>\n",
       "<tr><td>max f1</td>\n",
       "<td>0.2853130</td>\n",
       "<td>0.7284661</td>\n",
       "<td>250.0</td></tr>\n",
       "<tr><td>max f2</td>\n",
       "<td>0.0899907</td>\n",
       "<td>0.8078645</td>\n",
       "<td>341.0</td></tr>\n",
       "<tr><td>max f0point5</td>\n",
       "<td>0.7434509</td>\n",
       "<td>0.7641827</td>\n",
       "<td>94.0</td></tr>\n",
       "<tr><td>max accuracy</td>\n",
       "<td>0.5102429</td>\n",
       "<td>0.8746775</td>\n",
       "<td>168.0</td></tr>\n",
       "<tr><td>max precision</td>\n",
       "<td>0.9640764</td>\n",
       "<td>1.0</td>\n",
       "<td>0.0</td></tr>\n",
       "<tr><td>max recall</td>\n",
       "<td>0.0355351</td>\n",
       "<td>1.0</td>\n",
       "<td>399.0</td></tr>\n",
       "<tr><td>max specificity</td>\n",
       "<td>0.9640764</td>\n",
       "<td>1.0</td>\n",
       "<td>0.0</td></tr>\n",
       "<tr><td>max absolute_mcc</td>\n",
       "<td>0.4080050</td>\n",
       "<td>0.6432872</td>\n",
       "<td>202.0</td></tr>\n",
       "<tr><td>max min_per_class_accuracy</td>\n",
       "<td>0.1762295</td>\n",
       "<td>0.8417710</td>\n",
       "<td>294.0</td></tr>\n",
       "<tr><td>max mean_per_class_accuracy</td>\n",
       "<td>0.1326479</td>\n",
       "<td>0.8440911</td>\n",
       "<td>316.0</td></tr></table></div>"
      ],
      "text/plain": [
       "metric                       threshold    value     idx\n",
       "---------------------------  -----------  --------  -----\n",
       "max f1                       0.285313     0.728466  250\n",
       "max f2                       0.0899907    0.807864  341\n",
       "max f0point5                 0.743451     0.764183  94\n",
       "max accuracy                 0.510243     0.874678  168\n",
       "max precision                0.964076     1         0\n",
       "max recall                   0.0355351    1         399\n",
       "max specificity              0.964076     1         0\n",
       "max absolute_mcc             0.408005     0.643287  202\n",
       "max min_per_class_accuracy   0.176229     0.841771  294\n",
       "max mean_per_class_accuracy  0.132648     0.844091  316"
      ]
     },
     "metadata": {},
     "output_type": "display_data"
    },
    {
     "name": "stdout",
     "output_type": "stream",
     "text": [
      "Gains/Lift Table: Avg response rate: 23.93 %, avg score: 23.93 %\n",
      "\n"
     ]
    },
    {
     "data": {
      "text/html": [
       "<div style=\"overflow:auto\"><table style=\"width:50%\"><tr><td><b></b></td>\n",
       "<td><b>group</b></td>\n",
       "<td><b>cumulative_data_fraction</b></td>\n",
       "<td><b>lower_threshold</b></td>\n",
       "<td><b>lift</b></td>\n",
       "<td><b>cumulative_lift</b></td>\n",
       "<td><b>response_rate</b></td>\n",
       "<td><b>score</b></td>\n",
       "<td><b>cumulative_response_rate</b></td>\n",
       "<td><b>cumulative_score</b></td>\n",
       "<td><b>capture_rate</b></td>\n",
       "<td><b>cumulative_capture_rate</b></td>\n",
       "<td><b>gain</b></td>\n",
       "<td><b>cumulative_gain</b></td></tr>\n",
       "<tr><td></td>\n",
       "<td>1</td>\n",
       "<td>0.0100119</td>\n",
       "<td>0.9626601</td>\n",
       "<td>4.1791734</td>\n",
       "<td>4.1791734</td>\n",
       "<td>1.0</td>\n",
       "<td>0.9634913</td>\n",
       "<td>1.0</td>\n",
       "<td>0.9634913</td>\n",
       "<td>0.0418414</td>\n",
       "<td>0.0418414</td>\n",
       "<td>317.9173441</td>\n",
       "<td>317.9173441</td></tr>\n",
       "<tr><td></td>\n",
       "<td>2</td>\n",
       "<td>0.0200033</td>\n",
       "<td>0.9613690</td>\n",
       "<td>4.1791734</td>\n",
       "<td>4.1791734</td>\n",
       "<td>1.0</td>\n",
       "<td>0.9620335</td>\n",
       "<td>1.0</td>\n",
       "<td>0.9627632</td>\n",
       "<td>0.0417558</td>\n",
       "<td>0.0835972</td>\n",
       "<td>317.9173441</td>\n",
       "<td>317.9173441</td></tr>\n",
       "<tr><td></td>\n",
       "<td>3</td>\n",
       "<td>0.0300152</td>\n",
       "<td>0.9597695</td>\n",
       "<td>4.1620807</td>\n",
       "<td>4.1734720</td>\n",
       "<td>0.9959100</td>\n",
       "<td>0.9606213</td>\n",
       "<td>0.9986357</td>\n",
       "<td>0.9620487</td>\n",
       "<td>0.0416702</td>\n",
       "<td>0.1252674</td>\n",
       "<td>316.2080707</td>\n",
       "<td>317.3471976</td></tr>\n",
       "<tr><td></td>\n",
       "<td>4</td>\n",
       "<td>0.0400066</td>\n",
       "<td>0.9572821</td>\n",
       "<td>4.1534818</td>\n",
       "<td>4.1684795</td>\n",
       "<td>0.9938525</td>\n",
       "<td>0.9586327</td>\n",
       "<td>0.9974411</td>\n",
       "<td>0.9611956</td>\n",
       "<td>0.0414991</td>\n",
       "<td>0.1667665</td>\n",
       "<td>315.3481801</td>\n",
       "<td>316.8479547</td></tr>\n",
       "<tr><td></td>\n",
       "<td>5</td>\n",
       "<td>0.0500184</td>\n",
       "<td>0.9517912</td>\n",
       "<td>4.1449880</td>\n",
       "<td>4.1637774</td>\n",
       "<td>0.9918200</td>\n",
       "<td>0.9547677</td>\n",
       "<td>0.9963160</td>\n",
       "<td>0.9599089</td>\n",
       "<td>0.0414991</td>\n",
       "<td>0.2082656</td>\n",
       "<td>314.4987973</td>\n",
       "<td>316.3777386</td></tr>\n",
       "<tr><td></td>\n",
       "<td>6</td>\n",
       "<td>0.1000164</td>\n",
       "<td>0.8603603</td>\n",
       "<td>3.6178430</td>\n",
       "<td>3.8908661</td>\n",
       "<td>0.8656839</td>\n",
       "<td>0.9072108</td>\n",
       "<td>0.9310133</td>\n",
       "<td>0.9335653</td>\n",
       "<td>0.1808847</td>\n",
       "<td>0.3891503</td>\n",
       "<td>261.7843019</td>\n",
       "<td>289.0866081</td></tr>\n",
       "<tr><td></td>\n",
       "<td>7</td>\n",
       "<td>0.1500143</td>\n",
       "<td>0.7136729</td>\n",
       "<td>2.9298710</td>\n",
       "<td>3.5705781</td>\n",
       "<td>0.7010647</td>\n",
       "<td>0.7945520</td>\n",
       "<td>0.8543742</td>\n",
       "<td>0.8872338</td>\n",
       "<td>0.1464876</td>\n",
       "<td>0.5356379</td>\n",
       "<td>192.9870979</td>\n",
       "<td>257.0578100</td></tr>\n",
       "<tr><td></td>\n",
       "<td>8</td>\n",
       "<td>0.2000123</td>\n",
       "<td>0.4931422</td>\n",
       "<td>2.3839429</td>\n",
       "<td>3.2739497</td>\n",
       "<td>0.5704341</td>\n",
       "<td>0.6072670</td>\n",
       "<td>0.7833965</td>\n",
       "<td>0.8172493</td>\n",
       "<td>0.1191923</td>\n",
       "<td>0.6548302</td>\n",
       "<td>138.3942917</td>\n",
       "<td>227.3949671</td></tr>\n",
       "<tr><td></td>\n",
       "<td>9</td>\n",
       "<td>0.3000082</td>\n",
       "<td>0.2111654</td>\n",
       "<td>1.6086908</td>\n",
       "<td>2.7189013</td>\n",
       "<td>0.3849304</td>\n",
       "<td>0.3322760</td>\n",
       "<td>0.6505835</td>\n",
       "<td>0.6556025</td>\n",
       "<td>0.1608625</td>\n",
       "<td>0.8156926</td>\n",
       "<td>60.8690841</td>\n",
       "<td>171.8901277</td></tr>\n",
       "<tr><td></td>\n",
       "<td>10</td>\n",
       "<td>0.4000041</td>\n",
       "<td>0.0977196</td>\n",
       "<td>0.9908851</td>\n",
       "<td>2.2869193</td>\n",
       "<td>0.2371007</td>\n",
       "<td>0.1441487</td>\n",
       "<td>0.5472181</td>\n",
       "<td>0.5277456</td>\n",
       "<td>0.0990845</td>\n",
       "<td>0.9147771</td>\n",
       "<td>-0.9114897</td>\n",
       "<td>128.6919346</td></tr>\n",
       "<tr><td></td>\n",
       "<td>11</td>\n",
       "<td>0.5</td>\n",
       "<td>0.0592349</td>\n",
       "<td>0.4988653</td>\n",
       "<td>1.9293232</td>\n",
       "<td>0.1193694</td>\n",
       "<td>0.0753463</td>\n",
       "<td>0.4616519</td>\n",
       "<td>0.4372695</td>\n",
       "<td>0.0498845</td>\n",
       "<td>0.9646616</td>\n",
       "<td>-50.1134702</td>\n",
       "<td>92.9323180</td></tr>\n",
       "<tr><td></td>\n",
       "<td>12</td>\n",
       "<td>0.5999959</td>\n",
       "<td>0.0454969</td>\n",
       "<td>0.2113546</td>\n",
       "<td>1.6430049</td>\n",
       "<td>0.0505733</td>\n",
       "<td>0.0513178</td>\n",
       "<td>0.3931411</td>\n",
       "<td>0.3729464</td>\n",
       "<td>0.0211346</td>\n",
       "<td>0.9857962</td>\n",
       "<td>-78.8645405</td>\n",
       "<td>64.3004853</td></tr>\n",
       "<tr><td></td>\n",
       "<td>13</td>\n",
       "<td>0.6999918</td>\n",
       "<td>0.0403007</td>\n",
       "<td>0.0881357</td>\n",
       "<td>1.4208872</td>\n",
       "<td>0.0210893</td>\n",
       "<td>0.0424767</td>\n",
       "<td>0.3399924</td>\n",
       "<td>0.3257378</td>\n",
       "<td>0.0088132</td>\n",
       "<td>0.9946094</td>\n",
       "<td>-91.1864278</td>\n",
       "<td>42.0887188</td></tr>\n",
       "<tr><td></td>\n",
       "<td>14</td>\n",
       "<td>0.7999877</td>\n",
       "<td>0.0380410</td>\n",
       "<td>0.0385059</td>\n",
       "<td>1.2480939</td>\n",
       "<td>0.0092138</td>\n",
       "<td>0.0390341</td>\n",
       "<td>0.2986461</td>\n",
       "<td>0.2899008</td>\n",
       "<td>0.0038504</td>\n",
       "<td>0.9984598</td>\n",
       "<td>-96.1494102</td>\n",
       "<td>24.8093949</td></tr>\n",
       "<tr><td></td>\n",
       "<td>15</td>\n",
       "<td>0.8999836</td>\n",
       "<td>0.0369028</td>\n",
       "<td>0.0077012</td>\n",
       "<td>1.1102757</td>\n",
       "<td>0.0018428</td>\n",
       "<td>0.0374099</td>\n",
       "<td>0.2656687</td>\n",
       "<td>0.2618469</td>\n",
       "<td>0.0007701</td>\n",
       "<td>0.9992299</td>\n",
       "<td>-99.2298820</td>\n",
       "<td>11.0275666</td></tr>\n",
       "<tr><td></td>\n",
       "<td>16</td>\n",
       "<td>1.0</td>\n",
       "<td>0.0350133</td>\n",
       "<td>0.0076996</td>\n",
       "<td>1.0</td>\n",
       "<td>0.0018424</td>\n",
       "<td>0.0362422</td>\n",
       "<td>0.2392818</td>\n",
       "<td>0.2392827</td>\n",
       "<td>0.0007701</td>\n",
       "<td>1.0</td>\n",
       "<td>-99.2300397</td>\n",
       "<td>0.0</td></tr></table></div>"
      ],
      "text/plain": [
       "    group    cumulative_data_fraction    lower_threshold    lift        cumulative_lift    response_rate    score      cumulative_response_rate    cumulative_score    capture_rate    cumulative_capture_rate    gain      cumulative_gain\n",
       "--  -------  --------------------------  -----------------  ----------  -----------------  ---------------  ---------  --------------------------  ------------------  --------------  -------------------------  --------  -----------------\n",
       "    1        0.0100119                   0.96266            4.17917     4.17917            1                0.963491   1                           0.963491            0.0418414       0.0418414                  317.917   317.917\n",
       "    2        0.0200033                   0.961369           4.17917     4.17917            1                0.962033   1                           0.962763            0.0417558       0.0835972                  317.917   317.917\n",
       "    3        0.0300152                   0.95977            4.16208     4.17347            0.99591          0.960621   0.998636                    0.962049            0.0416702       0.125267                   316.208   317.347\n",
       "    4        0.0400066                   0.957282           4.15348     4.16848            0.993852         0.958633   0.997441                    0.961196            0.0414991       0.166766                   315.348   316.848\n",
       "    5        0.0500184                   0.951791           4.14499     4.16378            0.99182          0.954768   0.996316                    0.959909            0.0414991       0.208266                   314.499   316.378\n",
       "    6        0.100016                    0.86036            3.61784     3.89087            0.865684         0.907211   0.931013                    0.933565            0.180885        0.38915                    261.784   289.087\n",
       "    7        0.150014                    0.713673           2.92987     3.57058            0.701065         0.794552   0.854374                    0.887234            0.146488        0.535638                   192.987   257.058\n",
       "    8        0.200012                    0.493142           2.38394     3.27395            0.570434         0.607267   0.783396                    0.817249            0.119192        0.65483                    138.394   227.395\n",
       "    9        0.300008                    0.211165           1.60869     2.7189             0.38493          0.332276   0.650583                    0.655603            0.160862        0.815693                   60.8691   171.89\n",
       "    10       0.400004                    0.0977196          0.990885    2.28692            0.237101         0.144149   0.547218                    0.527746            0.0990845       0.914777                   -0.91149  128.692\n",
       "    11       0.5                         0.0592349          0.498865    1.92932            0.119369         0.0753463  0.461652                    0.437269            0.0498845       0.964662                   -50.1135  92.9323\n",
       "    12       0.599996                    0.0454969          0.211355    1.643              0.0505733        0.0513178  0.393141                    0.372946            0.0211346       0.985796                   -78.8645  64.3005\n",
       "    13       0.699992                    0.0403007          0.0881357   1.42089            0.0210893        0.0424767  0.339992                    0.325738            0.00881321      0.994609                   -91.1864  42.0887\n",
       "    14       0.799988                    0.038041           0.0385059   1.24809            0.00921376       0.0390341  0.298646                    0.289901            0.00385043      0.99846                    -96.1494  24.8094\n",
       "    15       0.899984                    0.0369028          0.00770118  1.11028            0.00184275       0.0374099  0.265669                    0.261847            0.000770086     0.99923                    -99.2299  11.0276\n",
       "    16       1                           0.0350133          0.0076996   1                  0.00184237       0.0362422  0.239282                    0.239283            0.000770086     1                          -99.23    0"
      ]
     },
     "metadata": {},
     "output_type": "display_data"
    },
    {
     "name": "stdout",
     "output_type": "stream",
     "text": [
      "\n",
      "<bound method ModelBase.coef_norm of >\n"
     ]
    }
   ],
   "source": [
    "mods=mod_best.coef_norm\n",
    "print(mods)"
   ]
  },
  {
   "cell_type": "code",
   "execution_count": 207,
   "metadata": {},
   "outputs": [],
   "source": [
    "bm=stackedensemble_df(aml_leaderboard_df)"
   ]
  },
  {
   "cell_type": "code",
   "execution_count": 208,
   "metadata": {},
   "outputs": [
    {
     "data": {
      "text/plain": [
       "['GBM_2_AutoML_20190415_164309',\n",
       " 'GLM_grid_1_AutoML_20190415_164309_model_1',\n",
       " 'DRF_1_AutoML_20190415_164309']"
      ]
     },
     "execution_count": 208,
     "metadata": {},
     "output_type": "execute_result"
    }
   ],
   "source": [
    "bm"
   ]
  },
  {
   "cell_type": "code",
   "execution_count": 209,
   "metadata": {},
   "outputs": [
    {
     "data": {
      "text/html": [
       "<div>\n",
       "<style scoped>\n",
       "    .dataframe tbody tr th:only-of-type {\n",
       "        vertical-align: middle;\n",
       "    }\n",
       "\n",
       "    .dataframe tbody tr th {\n",
       "        vertical-align: top;\n",
       "    }\n",
       "\n",
       "    .dataframe thead th {\n",
       "        text-align: right;\n",
       "    }\n",
       "</style>\n",
       "<table border=\"1\" class=\"dataframe\">\n",
       "  <thead>\n",
       "    <tr style=\"text-align: right;\">\n",
       "      <th></th>\n",
       "      <th>model_id</th>\n",
       "      <th>auc</th>\n",
       "      <th>logloss</th>\n",
       "      <th>mean_per_class_error</th>\n",
       "      <th>rmse</th>\n",
       "      <th>mse</th>\n",
       "    </tr>\n",
       "  </thead>\n",
       "  <tbody>\n",
       "    <tr>\n",
       "      <th>0</th>\n",
       "      <td>GBM_2_AutoML_20190415_164309</td>\n",
       "      <td>0.928763</td>\n",
       "      <td>0.277231</td>\n",
       "      <td>0.167004</td>\n",
       "      <td>0.296432</td>\n",
       "      <td>0.087872</td>\n",
       "    </tr>\n",
       "    <tr>\n",
       "      <th>1</th>\n",
       "      <td>GBM_2_AutoML_20190415_164528</td>\n",
       "      <td>0.928615</td>\n",
       "      <td>0.277539</td>\n",
       "      <td>0.173465</td>\n",
       "      <td>0.296479</td>\n",
       "      <td>0.087900</td>\n",
       "    </tr>\n",
       "    <tr>\n",
       "      <th>2</th>\n",
       "      <td>StackedEnsemble_AllModels_AutoML_20190415_164309</td>\n",
       "      <td>0.928563</td>\n",
       "      <td>0.294461</td>\n",
       "      <td>0.176996</td>\n",
       "      <td>0.300726</td>\n",
       "      <td>0.090436</td>\n",
       "    </tr>\n",
       "    <tr>\n",
       "      <th>3</th>\n",
       "      <td>GBM_1_AutoML_20190415_164528</td>\n",
       "      <td>0.928524</td>\n",
       "      <td>0.277594</td>\n",
       "      <td>0.167987</td>\n",
       "      <td>0.296648</td>\n",
       "      <td>0.088000</td>\n",
       "    </tr>\n",
       "    <tr>\n",
       "      <th>4</th>\n",
       "      <td>GBM_1_AutoML_20190415_164309</td>\n",
       "      <td>0.928404</td>\n",
       "      <td>0.278311</td>\n",
       "      <td>0.167706</td>\n",
       "      <td>0.296534</td>\n",
       "      <td>0.087932</td>\n",
       "    </tr>\n",
       "    <tr>\n",
       "      <th>5</th>\n",
       "      <td>GBM_3_AutoML_20190415_164528</td>\n",
       "      <td>0.928247</td>\n",
       "      <td>0.278928</td>\n",
       "      <td>0.168976</td>\n",
       "      <td>0.296887</td>\n",
       "      <td>0.088142</td>\n",
       "    </tr>\n",
       "    <tr>\n",
       "      <th>6</th>\n",
       "      <td>StackedEnsemble_BestOfFamily_AutoML_20190415_164309</td>\n",
       "      <td>0.927830</td>\n",
       "      <td>0.295549</td>\n",
       "      <td>0.169280</td>\n",
       "      <td>0.301231</td>\n",
       "      <td>0.090740</td>\n",
       "    </tr>\n",
       "    <tr>\n",
       "      <th>7</th>\n",
       "      <td>GBM_3_AutoML_20190415_164309</td>\n",
       "      <td>0.925747</td>\n",
       "      <td>0.288488</td>\n",
       "      <td>0.173977</td>\n",
       "      <td>0.299740</td>\n",
       "      <td>0.089844</td>\n",
       "    </tr>\n",
       "    <tr>\n",
       "      <th>8</th>\n",
       "      <td>GBM_4_AutoML_20190415_164528</td>\n",
       "      <td>0.919004</td>\n",
       "      <td>0.329096</td>\n",
       "      <td>0.173070</td>\n",
       "      <td>0.315762</td>\n",
       "      <td>0.099706</td>\n",
       "    </tr>\n",
       "    <tr>\n",
       "      <th>9</th>\n",
       "      <td>GBM_4_AutoML_20190415_164309</td>\n",
       "      <td>0.918170</td>\n",
       "      <td>0.363044</td>\n",
       "      <td>0.180648</td>\n",
       "      <td>0.330738</td>\n",
       "      <td>0.109387</td>\n",
       "    </tr>\n",
       "    <tr>\n",
       "      <th>10</th>\n",
       "      <td>DRF_1_AutoML_20190415_164309</td>\n",
       "      <td>0.917351</td>\n",
       "      <td>0.306874</td>\n",
       "      <td>0.176972</td>\n",
       "      <td>0.306518</td>\n",
       "      <td>0.093953</td>\n",
       "    </tr>\n",
       "    <tr>\n",
       "      <th>11</th>\n",
       "      <td>DRF_1_AutoML_20190415_164528</td>\n",
       "      <td>0.916732</td>\n",
       "      <td>0.308143</td>\n",
       "      <td>0.188662</td>\n",
       "      <td>0.307316</td>\n",
       "      <td>0.094443</td>\n",
       "    </tr>\n",
       "    <tr>\n",
       "      <th>12</th>\n",
       "      <td>GLM_grid_1_AutoML_20190415_164309_model_1</td>\n",
       "      <td>0.906797</td>\n",
       "      <td>0.317975</td>\n",
       "      <td>0.197513</td>\n",
       "      <td>0.318892</td>\n",
       "      <td>0.101692</td>\n",
       "    </tr>\n",
       "    <tr>\n",
       "      <th>13</th>\n",
       "      <td>GLM_grid_1_AutoML_20190415_164528_model_1</td>\n",
       "      <td>0.906786</td>\n",
       "      <td>0.317975</td>\n",
       "      <td>0.197651</td>\n",
       "      <td>0.318892</td>\n",
       "      <td>0.101692</td>\n",
       "    </tr>\n",
       "    <tr>\n",
       "      <th>14</th>\n",
       "      <td>GBM_5_AutoML_20190415_164528</td>\n",
       "      <td>0.882804</td>\n",
       "      <td>0.486522</td>\n",
       "      <td>0.206110</td>\n",
       "      <td>0.396944</td>\n",
       "      <td>0.157565</td>\n",
       "    </tr>\n",
       "  </tbody>\n",
       "</table>\n",
       "</div>"
      ],
      "text/plain": [
       "                                               model_id       auc   logloss  \\\n",
       "0                          GBM_2_AutoML_20190415_164309  0.928763  0.277231   \n",
       "1                          GBM_2_AutoML_20190415_164528  0.928615  0.277539   \n",
       "2      StackedEnsemble_AllModels_AutoML_20190415_164309  0.928563  0.294461   \n",
       "3                          GBM_1_AutoML_20190415_164528  0.928524  0.277594   \n",
       "4                          GBM_1_AutoML_20190415_164309  0.928404  0.278311   \n",
       "5                          GBM_3_AutoML_20190415_164528  0.928247  0.278928   \n",
       "6   StackedEnsemble_BestOfFamily_AutoML_20190415_164309  0.927830  0.295549   \n",
       "7                          GBM_3_AutoML_20190415_164309  0.925747  0.288488   \n",
       "8                          GBM_4_AutoML_20190415_164528  0.919004  0.329096   \n",
       "9                          GBM_4_AutoML_20190415_164309  0.918170  0.363044   \n",
       "10                         DRF_1_AutoML_20190415_164309  0.917351  0.306874   \n",
       "11                         DRF_1_AutoML_20190415_164528  0.916732  0.308143   \n",
       "12            GLM_grid_1_AutoML_20190415_164309_model_1  0.906797  0.317975   \n",
       "13            GLM_grid_1_AutoML_20190415_164528_model_1  0.906786  0.317975   \n",
       "14                         GBM_5_AutoML_20190415_164528  0.882804  0.486522   \n",
       "\n",
       "    mean_per_class_error      rmse       mse  \n",
       "0               0.167004  0.296432  0.087872  \n",
       "1               0.173465  0.296479  0.087900  \n",
       "2               0.176996  0.300726  0.090436  \n",
       "3               0.167987  0.296648  0.088000  \n",
       "4               0.167706  0.296534  0.087932  \n",
       "5               0.168976  0.296887  0.088142  \n",
       "6               0.169280  0.301231  0.090740  \n",
       "7               0.173977  0.299740  0.089844  \n",
       "8               0.173070  0.315762  0.099706  \n",
       "9               0.180648  0.330738  0.109387  \n",
       "10              0.176972  0.306518  0.093953  \n",
       "11              0.188662  0.307316  0.094443  \n",
       "12              0.197513  0.318892  0.101692  \n",
       "13              0.197651  0.318892  0.101692  \n",
       "14              0.206110  0.396944  0.157565  "
      ]
     },
     "execution_count": 209,
     "metadata": {},
     "output_type": "execute_result"
    }
   ],
   "source": [
    "\n",
    "aml_leaderboard_df"
   ]
  },
  {
   "cell_type": "code",
   "execution_count": 210,
   "metadata": {},
   "outputs": [],
   "source": [
    "#  Get best_models and coef_norm()\n",
    "best_models={}\n",
    "best_models=stackedensemble(mod_best)\n",
    "bm=[]\n",
    "if best_models is not None: \n",
    "  if 'Intercept' in best_models.keys():\n",
    "    del best_models['Intercept']\n",
    "  bm=list(best_models.keys())\n",
    "else:\n",
    "  best_models={}\n",
    "  bm=stackedensemble_df(aml_leaderboard_df)   \n",
    "  for b in bm:   \n",
    "    best_models[b]=None\n",
    "\n",
    "if mod_best.model_id not in bm:\n",
    "    bm.append(mod_best.model_id)"
   ]
  },
  {
   "cell_type": "code",
   "execution_count": 211,
   "metadata": {},
   "outputs": [
    {
     "data": {
      "text/plain": [
       "['GBM_2_AutoML_20190415_164309',\n",
       " 'DRF_1_AutoML_20190415_164309',\n",
       " 'GLM_grid_1_AutoML_20190415_164309_model_1',\n",
       " 'StackedEnsemble_BestOfFamily_AutoML_20190415_164309']"
      ]
     },
     "execution_count": 211,
     "metadata": {},
     "output_type": "execute_result"
    }
   ],
   "source": [
    "\n",
    "bm"
   ]
  },
  {
   "cell_type": "code",
   "execution_count": 212,
   "metadata": {},
   "outputs": [],
   "source": [
    "# Best of Family leaderboard\n",
    "\n",
    "aml_leaderboard_df=aml_leaderboard_df.loc[aml_leaderboard_df['model_id'].isin(bm)]"
   ]
  },
  {
   "cell_type": "code",
   "execution_count": 213,
   "metadata": {},
   "outputs": [
    {
     "data": {
      "text/html": [
       "<div>\n",
       "<style scoped>\n",
       "    .dataframe tbody tr th:only-of-type {\n",
       "        vertical-align: middle;\n",
       "    }\n",
       "\n",
       "    .dataframe tbody tr th {\n",
       "        vertical-align: top;\n",
       "    }\n",
       "\n",
       "    .dataframe thead th {\n",
       "        text-align: right;\n",
       "    }\n",
       "</style>\n",
       "<table border=\"1\" class=\"dataframe\">\n",
       "  <thead>\n",
       "    <tr style=\"text-align: right;\">\n",
       "      <th></th>\n",
       "      <th>model_id</th>\n",
       "      <th>auc</th>\n",
       "      <th>logloss</th>\n",
       "      <th>mean_per_class_error</th>\n",
       "      <th>rmse</th>\n",
       "      <th>mse</th>\n",
       "    </tr>\n",
       "  </thead>\n",
       "  <tbody>\n",
       "    <tr>\n",
       "      <th>0</th>\n",
       "      <td>GBM_2_AutoML_20190415_164309</td>\n",
       "      <td>0.928763</td>\n",
       "      <td>0.277231</td>\n",
       "      <td>0.167004</td>\n",
       "      <td>0.296432</td>\n",
       "      <td>0.087872</td>\n",
       "    </tr>\n",
       "    <tr>\n",
       "      <th>6</th>\n",
       "      <td>StackedEnsemble_BestOfFamily_AutoML_20190415_164309</td>\n",
       "      <td>0.927830</td>\n",
       "      <td>0.295549</td>\n",
       "      <td>0.169280</td>\n",
       "      <td>0.301231</td>\n",
       "      <td>0.090740</td>\n",
       "    </tr>\n",
       "    <tr>\n",
       "      <th>10</th>\n",
       "      <td>DRF_1_AutoML_20190415_164309</td>\n",
       "      <td>0.917351</td>\n",
       "      <td>0.306874</td>\n",
       "      <td>0.176972</td>\n",
       "      <td>0.306518</td>\n",
       "      <td>0.093953</td>\n",
       "    </tr>\n",
       "    <tr>\n",
       "      <th>12</th>\n",
       "      <td>GLM_grid_1_AutoML_20190415_164309_model_1</td>\n",
       "      <td>0.906797</td>\n",
       "      <td>0.317975</td>\n",
       "      <td>0.197513</td>\n",
       "      <td>0.318892</td>\n",
       "      <td>0.101692</td>\n",
       "    </tr>\n",
       "  </tbody>\n",
       "</table>\n",
       "</div>"
      ],
      "text/plain": [
       "                                               model_id       auc   logloss  \\\n",
       "0                          GBM_2_AutoML_20190415_164309  0.928763  0.277231   \n",
       "6   StackedEnsemble_BestOfFamily_AutoML_20190415_164309  0.927830  0.295549   \n",
       "10                         DRF_1_AutoML_20190415_164309  0.917351  0.306874   \n",
       "12            GLM_grid_1_AutoML_20190415_164309_model_1  0.906797  0.317975   \n",
       "\n",
       "    mean_per_class_error      rmse       mse  \n",
       "0               0.167004  0.296432  0.087872  \n",
       "6               0.169280  0.301231  0.090740  \n",
       "10              0.176972  0.306518  0.093953  \n",
       "12              0.197513  0.318892  0.101692  "
      ]
     },
     "execution_count": 213,
     "metadata": {},
     "output_type": "execute_result"
    }
   ],
   "source": [
    "aml_leaderboard_df"
   ]
  },
  {
   "cell_type": "code",
   "execution_count": 214,
   "metadata": {},
   "outputs": [],
   "source": [
    "# save leaderboard\n",
    "leaderboard_stats=run_id+'_leaderboard.csv'\n",
    "aml_leaderboard_df.to_csv(leaderboard_stats)"
   ]
  },
  {
   "cell_type": "code",
   "execution_count": 215,
   "metadata": {},
   "outputs": [
    {
     "data": {
      "text/plain": [
       "{'model_id': {'default': None,\n",
       "  'actual': {'__meta': {'schema_version': 3,\n",
       "    'schema_name': 'ModelKeyV3',\n",
       "    'schema_type': 'Key<Model>'},\n",
       "   'name': 'StackedEnsemble_BestOfFamily_AutoML_20190415_164309',\n",
       "   'type': 'Key<Model>',\n",
       "   'URL': '/3/Models/StackedEnsemble_BestOfFamily_AutoML_20190415_164309'}},\n",
       " 'training_frame': {'default': None,\n",
       "  'actual': {'__meta': {'schema_version': 3,\n",
       "    'schema_name': 'FrameKeyV3',\n",
       "    'schema_type': 'Key<Frame>'},\n",
       "   'name': 'automl_training_adult2.hex',\n",
       "   'type': 'Key<Frame>',\n",
       "   'URL': '/3/Frames/automl_training_adult2.hex'}},\n",
       " 'response_column': {'default': None,\n",
       "  'actual': {'__meta': {'schema_version': 3,\n",
       "    'schema_name': 'ColSpecifierV3',\n",
       "    'schema_type': 'VecSpecifier'},\n",
       "   'column_name': 'income',\n",
       "   'is_member_of_frames': None}},\n",
       " 'validation_frame': {'default': None, 'actual': None},\n",
       " 'blending_frame': {'default': None, 'actual': None},\n",
       " 'base_models': {'default': [],\n",
       "  'actual': [{'__meta': {'schema_version': 3,\n",
       "     'schema_name': 'ModelKeyV3',\n",
       "     'schema_type': 'Key<Model>'},\n",
       "    'name': 'GBM_2_AutoML_20190415_164309',\n",
       "    'type': 'Key<Model>',\n",
       "    'URL': '/3/Models/GBM_2_AutoML_20190415_164309'},\n",
       "   {'__meta': {'schema_version': 3,\n",
       "     'schema_name': 'ModelKeyV3',\n",
       "     'schema_type': 'Key<Model>'},\n",
       "    'name': 'DRF_1_AutoML_20190415_164309',\n",
       "    'type': 'Key<Model>',\n",
       "    'URL': '/3/Models/DRF_1_AutoML_20190415_164309'},\n",
       "   {'__meta': {'schema_version': 3,\n",
       "     'schema_name': 'ModelKeyV3',\n",
       "     'schema_type': 'Key<Model>'},\n",
       "    'name': 'GLM_grid_1_AutoML_20190415_164309_model_1',\n",
       "    'type': 'Key<Model>',\n",
       "    'URL': '/3/Models/GLM_grid_1_AutoML_20190415_164309_model_1'}]},\n",
       " 'metalearner_algorithm': {'default': 'AUTO', 'actual': 'AUTO'},\n",
       " 'metalearner_nfolds': {'default': 0, 'actual': 5},\n",
       " 'metalearner_fold_assignment': {'default': None, 'actual': None},\n",
       " 'metalearner_fold_column': {'default': None, 'actual': None},\n",
       " 'metalearner_params': {'default': '', 'actual': ''},\n",
       " 'seed': {'default': -1, 'actual': 8317027293665750431},\n",
       " 'keep_levelone_frame': {'default': False, 'actual': True},\n",
       " 'export_checkpoints_dir': {'default': None, 'actual': None}}"
      ]
     },
     "execution_count": 215,
     "metadata": {},
     "output_type": "execute_result"
    }
   ],
   "source": [
    "mod_best.params"
   ]
  },
  {
   "cell_type": "code",
   "execution_count": 216,
   "metadata": {},
   "outputs": [
    {
     "name": "stdout",
     "output_type": "stream",
     "text": [
      "GBM_2_AutoML_20190415_164309\n"
     ]
    }
   ],
   "source": [
    "top=aml_leaderboard_df.iloc[0]['model_id']\n",
    "print(top)"
   ]
  },
  {
   "cell_type": "code",
   "execution_count": 217,
   "metadata": {},
   "outputs": [
    {
     "name": "stdout",
     "output_type": "stream",
     "text": [
      "GBM_2_AutoML_20190415_164309\n",
      "gbm\n"
     ]
    }
   ],
   "source": [
    "mod_best=h2o.get_model(top)\n",
    "print(mod_best._id)\n",
    "print(mod_best.algo)"
   ]
  },
  {
   "cell_type": "code",
   "execution_count": 218,
   "metadata": {},
   "outputs": [],
   "source": [
    "meta_data['mod_best']=mod_best._id\n",
    "meta_data['mod_best_algo']=mod_best.algo"
   ]
  },
  {
   "cell_type": "code",
   "execution_count": 219,
   "metadata": {},
   "outputs": [],
   "source": [
    "meta_data['models']=bm"
   ]
  },
  {
   "cell_type": "code",
   "execution_count": 220,
   "metadata": {},
   "outputs": [],
   "source": [
    "models_path=os.path.join(run_dir,'models')\n",
    "for mod in bm:\n",
    "  try:   \n",
    "    m=h2o.get_model(mod) \n",
    "    h2o.save_model(m, path = models_path)\n",
    "  except:    \n",
    "    pass"
   ]
  },
  {
   "cell_type": "code",
   "execution_count": 221,
   "metadata": {},
   "outputs": [
    {
     "name": "stdout",
     "output_type": "stream",
     "text": [
      "C:\\Users\\pkash\\Y\\e\\Q\\R\\models\n"
     ]
    }
   ],
   "source": [
    "print(models_path)"
   ]
  },
  {
   "cell_type": "code",
   "execution_count": 222,
   "metadata": {},
   "outputs": [
    {
     "name": "stdout",
     "output_type": "stream",
     "text": [
      "{'algo': 'gbm', 'model_id': 'GBM_2_AutoML_20190415_164309', 'varimp': [('relationship', 6503.62451171875, 1.0, 0.27605191656951894), ('capital-gain', 5131.92919921875, 0.7890875603244976, 0.2178291333687434), ('marital-status', 2236.791015625, 0.34392991348048635, 0.09494251178187708), ('occupation', 2078.765869140625, 0.3196319014720082, 0.0882349989981075), ('education', 1859.2523193359375, 0.2858794070884302, 0.07891755823451886), ('capital-loss', 1386.0009765625, 0.21311208450996713, 0.05882999937310171), ('educational-num', 1330.5340576171875, 0.20458346806764827, 0.05647565845851328), ('age', 1097.14013671875, 0.1686967220727204, 0.04656905344716994), ('hours-per-week', 654.80029296875, 0.10068236439371285, 0.02779355965563512), ('native-country', 564.0496826171875, 0.08672851293933678, 0.02394157221812824), ('workclass', 403.78973388671875, 0.06208687681140542, 0.017139201337604087), ('fnlwgt', 172.98529052734375, 0.0265982899559538, 0.00734250891981283), ('gender', 100.45161437988281, 0.015445481853831055, 0.004263754868089789), ('race', 39.31061553955078, 0.0060444165355361115, 0.0016685727691792352)]}\n"
     ]
    }
   ],
   "source": [
    "# GBM\n",
    " \n",
    "mod,mod_id=get_model_by_algo(\"GBM\",best_models)\n",
    "if mod is not None:\n",
    "    try:     \n",
    "        sh_df=mod.scoring_history()\n",
    "        sh_df.to_csv(run_id+'_gbm_scoring_history.csv') \n",
    "    except:\n",
    "        pass   \n",
    "    try:     \n",
    "        stats_gbm={}\n",
    "        stats_gbm=gbm_stats(mod)\n",
    "        n=run_id+'_gbm_stats.json'\n",
    "        dict_to_json(stats_gbm,n)\n",
    "        print(stats_gbm)\n",
    "    except:\n",
    "        pass"
   ]
  },
  {
   "cell_type": "code",
   "execution_count": 223,
   "metadata": {},
   "outputs": [
    {
     "name": "stdout",
     "output_type": "stream",
     "text": [
      "{'algo': 'gbm', 'model_id': 'GBM_2_AutoML_20190415_164309', 'varimp': [('relationship', 6503.62451171875, 1.0, 0.27605191656951894), ('capital-gain', 5131.92919921875, 0.7890875603244976, 0.2178291333687434), ('marital-status', 2236.791015625, 0.34392991348048635, 0.09494251178187708), ('occupation', 2078.765869140625, 0.3196319014720082, 0.0882349989981075), ('education', 1859.2523193359375, 0.2858794070884302, 0.07891755823451886), ('capital-loss', 1386.0009765625, 0.21311208450996713, 0.05882999937310171), ('educational-num', 1330.5340576171875, 0.20458346806764827, 0.05647565845851328), ('age', 1097.14013671875, 0.1686967220727204, 0.04656905344716994), ('hours-per-week', 654.80029296875, 0.10068236439371285, 0.02779355965563512), ('native-country', 564.0496826171875, 0.08672851293933678, 0.02394157221812824), ('workclass', 403.78973388671875, 0.06208687681140542, 0.017139201337604087), ('fnlwgt', 172.98529052734375, 0.0265982899559538, 0.00734250891981283), ('gender', 100.45161437988281, 0.015445481853831055, 0.004263754868089789), ('race', 39.31061553955078, 0.0060444165355361115, 0.0016685727691792352)]}\n"
     ]
    }
   ],
   "source": [
    "if mod is not None:\n",
    "    try:    \n",
    "        sh_df=mod.scoring_history()\n",
    "        sh_df.to_csv(run_id+'_dl_scoring_history.csv') \n",
    "    except:\n",
    "        pass \n",
    "    try:\n",
    "        stats_dl={}\n",
    "        stats_dl=dl_stats(mod)\n",
    "        n=run_id+'_dl_stats.json'\n",
    "        dict_to_json(stats_dl,n)\n",
    "        print(stats_dl)\n",
    "    except:\n",
    "        pass    \n",
    "    try:\n",
    "        cf=mod.confusion_matrix()    \n",
    "        cf_df.to_csv(run_id+'_dl_confusion_matrix.csv')\n",
    "    except:\n",
    "        pass"
   ]
  },
  {
   "cell_type": "code",
   "execution_count": 224,
   "metadata": {},
   "outputs": [
    {
     "name": "stdout",
     "output_type": "stream",
     "text": [
      "{'algo': 'drf', 'model_id': 'DRF_1_AutoML_20190415_164309', 'varimp': [('relationship', 41057.48828125, 1.0, 0.18630685618351636), ('capital-gain', 36127.66015625, 0.8799286480646372, 0.16393674008673434), ('occupation', 20945.40625, 0.5101482610558348, 0.09504411870480035), ('age', 19177.638671875, 0.467092349646556, 0.08702250721002164), ('marital-status', 19159.642578125, 0.4666540351148261, 0.0869408462075955), ('education', 16103.2353515625, 0.39221189667650647, 0.07307176542757407), ('educational-num', 15915.62109375, 0.38764234637846307, 0.07222042687737315), ('hours-per-week', 13230.314453125, 0.32223876829715803, 0.06003529186189207), ('fnlwgt', 11322.0244140625, 0.27576027877070614, 0.05137603059806033), ('capital-loss', 9269.908203125, 0.2257787456364775, 0.04206412829258994), ('workclass', 7137.8994140625, 0.1738513414451174, 0.032389696867926886), ('native-country', 6116.5029296875, 0.14897411375456118, 0.027754898786337835), ('race', 2452.44189453125, 0.059731902685611266, 0.011128463003215973), ('gender', 2359.832763671875, 0.05747630608834773, 0.010708229892361566)], 'roc': ([0.00021531422419593594, 0.00021531422419593594, 0.00021531422419593594, 0.00021531422419593594, 0.00021531422419593594, 0.00021531422419593594, 0.00021531422419593594, 0.00026914278024491994, 0.00029605705826941193, 0.00032297133629390393, 0.00034988561431839593, 0.0004037141703673799, 0.0004306284483918719, 0.0004575427264163639, 0.00048445700444085587, 0.0005113712824653478, 0.0005113712824653478, 0.0005382855604898399, 0.0005921141165388239, 0.0006459426725878079, 0.0007805140627102678, 0.0008612568967837437, 0.0009150854528327277, 0.0009419997308572198, 0.0009689140088817117, 0.0010227425649306956, 0.0010496568429551878, 0.0011573139550531558, 0.0012649710671511236, 0.0013457139012245996, 0.0013995424572735837, 0.0015071995693715515, 0.0015879424034450276, 0.0018301709056654555, 0.0019916565738124074, 0.0021800565199838516, 0.0022877136320818194, 0.0024491993002287715, 0.0025568564123267393, 0.0026914278024491992, 0.0027990849145471675, 0.002879827748620643, 0.003041313416767595, 0.0031220562508410712, 0.003310456197012515, 0.003445027587134975, 0.003687256089355403, 0.003902570313551339, 0.004144798815771767, 0.004413941596016687, 0.004575427264163639, 0.004736912932310591, 0.0049522271565065265, 0.00514062710267797, 0.005651998385143318, 0.005867312609339255, 0.006190283945633158, 0.00635176961378011, 0.006486341003902571, 0.00689005517426995, 0.006997712286367918, 0.007347597900686314, 0.00769748351500471, 0.007912797739200646, 0.008289597631543534, 0.008585654689812946, 0.009150854528327278, 0.00944691158659669, 0.009689140088817117, 0.010065939981160005, 0.010415825595478401, 0.010792625487821289, 0.010927196877943749, 0.011465482438433589, 0.011815368052751985, 0.012057596554972412, 0.012407482169290808, 0.01256896783743776, 0.01294576772978065, 0.013295653344099044, 0.013753196070515408, 0.014641367245323644, 0.015018167137666532, 0.015233481361862467, 0.015341138473960436, 0.015744852644327817, 0.016283138204817655, 0.016498452429013592, 0.016929080877405463, 0.01730588076974835, 0.018005651998385143, 0.01811330911048311, 0.01878616606109541, 0.019216794509487285, 0.019593594401830172, 0.019943480016148568, 0.02064325124478536, 0.020912394025030277, 0.021585250975642577, 0.021935136589960973, 0.022365765038352844, 0.02271565065267124, 0.023173193379087607, 0.023738393217601936, 0.024249764500067286, 0.025057192840802045, 0.025568564123267395, 0.02605302112770825, 0.02624142107387969, 0.026833535190418516, 0.027371820750908358, 0.02796393486744718, 0.02877136320818194, 0.029605705826941192, 0.030143991387431034, 0.030843762616067825, 0.03135513389853317, 0.03200107657112098, 0.03262010496568429, 0.03313147624814965, 0.03383124747678644, 0.034584847261472214, 0.03549993271430494, 0.036011303996770286, 0.03660341811330911, 0.037195532229847936, 0.037841474902435744, 0.03848741757502355, 0.03902570313551339, 0.03948324586192976, 0.040075359978468575, 0.040452159870811466, 0.04104427398735029, 0.04174404521598708, 0.04238998788857489, 0.0430359305611627, 0.04368187323375051, 0.04430090162831382, 0.044677701520656705, 0.04535055847126901, 0.04551204413941596, 0.04631947248015072, 0.04742295787915489, 0.0480689005517427, 0.048714843224330506, 0.04938770017494281, 0.05024895707172655, 0.051029471134436816, 0.05170232808504912, 0.05224061364553896, 0.05294038487417575, 0.053559413268739066, 0.054124613107253396, 0.055066612838110617, 0.05592786973489436, 0.05630466962723725, 0.05724666935809447, 0.05775804064055982, 0.05845781186919661, 0.05926524020993137, 0.06026106849683757, 0.06157986812003768, 0.06257569640694388, 0.0635446104158256, 0.06480958148297672, 0.06559009554568698, 0.06639752388642174, 0.06704346655900956, 0.06750100928542592, 0.06795855201184228, 0.06884672318665051, 0.0695734086933118, 0.07035392275602206, 0.07137666532095277, 0.07213026510563854, 0.0726147221100794, 0.07382586462118154, 0.07484860718611223, 0.07584443547301843, 0.07692100659399811, 0.07813214910510026, 0.07904723455793299, 0.08023146279101064, 0.08111963396581887, 0.08235769075494549, 0.08381106176826807, 0.08494146144529673, 0.0863948324586193, 0.08722917507737855, 0.08860180325662764, 0.08967837437760733, 0.09080877405463599, 0.09185843089759117, 0.09261203068227694, 0.09352711613510968, 0.09522271565065267, 0.09648768671780379, 0.09769882922890594, 0.09872157179383663, 0.1001749428071592, 0.10127842820616337, 0.10216659938097161, 0.10313551338985331, 0.10434665590095546, 0.10550396985600861, 0.10668819808908626, 0.10816848338043332, 0.10908356883326605, 0.11069842551473556, 0.11207105369398467, 0.11382048176557664, 0.1153276813349482, 0.11729242363073611, 0.1180191091373974, 0.11917642309245055, 0.1210335082761405, 0.12254070784551205, 0.12447853586327547, 0.1263625353249899, 0.12827344906472885, 0.1296999058000269, 0.13163773381779034, 0.13284887632889247, 0.13465213295653344, 0.13602476113578255, 0.13790876059749696, 0.13968510294711345, 0.14135378818463196, 0.14278024491993002, 0.14401830170905666, 0.14592921544879559, 0.14781321491051003, 0.14937424303593055, 0.15074687121517966, 0.15249629928677164, 0.15335755618355537, 0.1556183555376127, 0.15777149777957206, 0.15879424034450276, 0.1607320683622662, 0.16223926793163773, 0.16431166733952363, 0.16651863813753195, 0.16821423765307494, 0.1694792087202261, 0.17125555106984255, 0.17268200780514062, 0.17459292154487957, 0.17566949266585924, 0.176476921006594, 0.17758040640559816, 0.17892612030682276, 0.1804602341542188, 0.18210200511371283, 0.18334006190283947, 0.1852509756425784, 0.1858700040371417, 0.18794240344502758, 0.1895572601264971, 0.191522002422285, 0.19267931637733818, 0.19472480150719956, 0.1962589153545956, 0.19814291481631005, 0.1999192571659265, 0.20086125689678375, 0.20293365630466964, 0.2054097698829229, 0.20718611223253935, 0.2087202260799354, 0.21087336832189477, 0.21254205355941327, 0.21423765307495626, 0.2161754810927197, 0.21859776611492396, 0.22037410846454045, 0.22263490781859777, 0.2249226214506796, 0.2265643924101736, 0.22774862064325124, 0.22874444893015744, 0.23062844839187188, 0.23237787646346386, 0.23447719014937424, 0.23646884672318666, 0.2386489032431705, 0.24077513120710536, 0.2430628448391872, 0.24583501547570985, 0.2474498721571794, 0.24887632889247746, 0.25057192840802045, 0.2526712420939308, 0.2543937558874983, 0.2561162696810658, 0.25856546898129457, 0.26106849683757233, 0.2634638675817521, 0.26462118153680525, 0.26736643789530345, 0.268873637464675, 0.27110752254070786, 0.2747409500740143, 0.27654420670165525, 0.2785896918315166, 0.28087740546359846, 0.28208854797470057, 0.28397254743641503, 0.2866639752388642, 0.2888440317588481, 0.29129323105907684, 0.2937155160812811, 0.2944152873099179, 0.2970528865563181, 0.30030951419728164, 0.30232808504911857, 0.3049118557394698, 0.3072264836495761, 0.31067151123671105, 0.3129592248687929, 0.3149508814426053, 0.31715785224061366, 0.32025299421343023, 0.322702193513659, 0.3249360785896918, 0.3264163638810389, 0.32913470596151256, 0.3317453909298883, 0.3344906472883865, 0.3375857892612031, 0.34027721706365227, 0.3425380164177096, 0.34592921544879557, 0.34670972951150586, 0.3492665859238326, 0.3526308706768941, 0.3559413268739066, 0.3598169829094335, 0.3626698963800296, 0.36482303862198895, 0.3674337235903647, 0.3703673798950343, 0.37262817924909164, 0.37596554972412866, 0.37932983447719015, 0.3825057192840802, 0.3874848607186112, 0.39076840263759927, 0.39415960166868524, 0.3985466289866774, 0.4013995424572736, 0.4041986273718208, 0.4094199973085722, 0.4127573677836092, 0.4181671376665321, 0.4225272507064998, 0.42836764903781455, 0.43140896245458216, 0.4359843897187458, 0.438675817521195, 0.44491993002287716, 0.45030278562777554, 0.45358632754676353, 0.4572466693580945, 0.46106849683757234, 0.46491723859507467, 0.46908895168887094, 0.47371820750908356, 0.4769479208720226, 0.48050060557125557, 0.4820616336966761, 0.4870407751312071, 0.49059345983044006, 0.4953034584847261, 0.49942134302247343, 0.5038083703404657, 0.507764769210066, 0.512367110752254, 0.5174808235769075, 0.5222446507872426, 0.5267393352173328, 0.5332256762212354, 0.5412730453505584, 0.5459830440048445, 0.5510967568294981, 0.5579060691696945, 0.5637464675010093, 0.573031893419459, 0.5844166330238192, 0.5933521733279504, 0.6041447988157718, 0.6147490243574216, 0.6267527923563451, 0.6393755887498318, 0.6532095276544206, 0.668981294576773, 0.6881173462521868, 0.7112636253532499, 0.7416767595209258, 1.0], [0.09549071618037135, 0.09951227860015402, 0.10610079575596817, 0.11174809617523744, 0.11662531017369727, 0.11936339522546419, 0.12449730469752716, 0.13031573543253186, 0.13433729785231455, 0.1377599041670232, 0.142038162060409, 0.1452040729015145, 0.147771027637546, 0.1514503294258578, 0.1557285873192436, 0.16129032258064516, 0.1668520578420467, 0.17172927184050654, 0.17763326773337898, 0.18362282878411912, 0.1889278685719175, 0.1946607341490545, 0.2003935997261915, 0.20244716351501668, 0.2062120304611962, 0.20972020193377255, 0.21374176435355524, 0.21647984940532217, 0.22050141182510483, 0.22597758192863865, 0.2304269701377599, 0.23419183708393942, 0.23812783434585436, 0.2429194831864465, 0.24582869855394884, 0.2499358261315992, 0.25164712928895355, 0.25652434328741336, 0.25917686318131256, 0.2620005133909472, 0.2660220758107299, 0.26764781381021646, 0.2717549413878669, 0.27611876443912037, 0.27954137075382907, 0.28065371780610937, 0.28390519380508256, 0.28698553948832034, 0.29109266706597076, 0.29502866432788566, 0.297338923590314, 0.30110379053649355, 0.3035851801146573, 0.3074356122187045, 0.3120561307435612, 0.31624882347907934, 0.3194147343201848, 0.32309403610849663, 0.3252331650551895, 0.32899803200136907, 0.3308804654744588, 0.33319072473688716, 0.3372978523145375, 0.34072045862924616, 0.34362967399674854, 0.34833575767947295, 0.35167279883631386, 0.35518097030889023, 0.3572345340977154, 0.36271070420124923, 0.3662188756738256, 0.36921365619919566, 0.3729785231453752, 0.3787969538803799, 0.38127834345854367, 0.38529990587832635, 0.3892359031402413, 0.39240181398134677, 0.39599555061179087, 0.39890476597929325, 0.4024129374518696, 0.4063489347137845, 0.41114058355437666, 0.414049798921879, 0.41490545050055616, 0.4174724052365877, 0.42098057670916406, 0.42269187986651835, 0.42645674681269785, 0.4292803970223325, 0.432446307863438, 0.4341576110207923, 0.43809360828270727, 0.44185847522888677, 0.4446821254385214, 0.44784803627962694, 0.45075725164712926, 0.45435098827757336, 0.45794472490801746, 0.4619662873278001, 0.4644476769059639, 0.4682125438521434, 0.4694104560622914, 0.47266193206126467, 0.4756567125866347, 0.4786514931120048, 0.481902969110978, 0.48369983742620004, 0.48592453153076065, 0.48883374689826303, 0.4916573971078977, 0.4945666124754, 0.498502609737315, 0.5014118251048173, 0.5050055617352615, 0.5076580816291606, 0.5108239924702661, 0.5145032942585779, 0.5170702489946094, 0.5203217249935826, 0.5234020706768204, 0.5253700693077779, 0.5291349362539574, 0.5315307606742534, 0.534097715410285, 0.5375203217249935, 0.5398305809874219, 0.5419697099341149, 0.544622229828014, 0.5469324890904423, 0.549157183195003, 0.5516385727731667, 0.5545477881406691, 0.558227089928981, 0.5607940446650124, 0.5632754342431762, 0.566355779926414, 0.5696928210832549, 0.5719175151878155, 0.5749978608710533, 0.576281338239069, 0.5791049884487037, 0.5813296825532643, 0.5825275947634123, 0.5863780268674595, 0.5883460254984171, 0.5909129802344485, 0.5939933259176863, 0.596816976127321, 0.5987849747582784, 0.6011807991785745, 0.6041755797039445, 0.6061435783349021, 0.6085394027551981, 0.6117053135963035, 0.6129887909643194, 0.6153846153846154, 0.6170959185419697, 0.6201762642252074, 0.6226576538033712, 0.6247967827500642, 0.6274493026439634, 0.6292461709591854, 0.63206982116882, 0.6350646016941901, 0.6371181654830154, 0.639599555061179, 0.6406263369555917, 0.6425943355865491, 0.644134508428168, 0.6463592025327287, 0.647471549585009, 0.6500385043210405, 0.6527765893728074, 0.6553435441088389, 0.6562847608453838, 0.6598784974758278, 0.6617609309489176, 0.6638144947377428, 0.6668092752631128, 0.6691195345255412, 0.6707452725250278, 0.6738256182082656, 0.6757936168392231, 0.6777616154701805, 0.6812697869427569, 0.6843501326259946, 0.6873449131513648, 0.6892273466244545, 0.6931633438863695, 0.6960725592538718, 0.6983828185163001, 0.7012920338838026, 0.7030889021990245, 0.7052280311457174, 0.7083939419868229, 0.7105330709335159, 0.7130144605116796, 0.7154102849319757, 0.7179772396680072, 0.7196029776674938, 0.7212287156669804, 0.7239668007187473, 0.7263626251390434, 0.7282450586121332, 0.7304697527166938, 0.7331222726105929, 0.7344913151364765, 0.7372294001882433, 0.7390262685034654, 0.7411653974501583, 0.7433900915547189, 0.7462993069222212, 0.7472405236587661, 0.7503208693420039, 0.7534012150252417, 0.7557970394455378, 0.7581928638658338, 0.7616154701805424, 0.7646102507059126, 0.7670916402840763, 0.7704286814409173, 0.7730812013348165, 0.7758192863865834, 0.7781295456490117, 0.7805253700693078, 0.7833490202789424, 0.7857448446992384, 0.7880551039616668, 0.7909643193291691, 0.7931890134337298, 0.7963549242748353, 0.7978950971164542, 0.8000342260631471, 0.8020877898519723, 0.8028578762727817, 0.8055959613245487, 0.8072216993240352, 0.8087618721656541, 0.8102164798494054, 0.8118422178488919, 0.8141524771113202, 0.8167194318473517, 0.8186874304783093, 0.8203987336356635, 0.8219389064772824, 0.8239924702661077, 0.8259604688970651, 0.8279284675280226, 0.8286985539488321, 0.8300675964747155, 0.8318644647899376, 0.8340891588944982, 0.8359715923675879, 0.8369983742620005, 0.8396508941558997, 0.8405065457345768, 0.8428168049970052, 0.8448703687858304, 0.8476084538375973, 0.8487208008898777, 0.8505176692050996, 0.8524001026781894, 0.8533413194147343, 0.854967057414221, 0.855566013519295, 0.8570206212030461, 0.859159750149739, 0.8608710533070933, 0.8620689655172413, 0.8633524428852571, 0.8645503550954051, 0.8659193976212887, 0.8676307007786429, 0.8690853084623941, 0.8716522631984256, 0.8734491315136477, 0.8744759134080602, 0.8761016514075468, 0.8777273894070334, 0.8781552151963721, 0.8796098228801232, 0.8814066911953452, 0.8830324291948318, 0.8843159065628476, 0.8865406006674083, 0.8885941644562334, 0.89021990245572, 0.8921023359288098, 0.8928724223496193, 0.8944125951912382, 0.8956105074013861, 0.8980918969795499, 0.9001454607683751, 0.9012578078206555, 0.9028835458201421, 0.904423718661761, 0.9057927611876444, 0.9066484127663216, 0.9088731068708822, 0.9099854539231624, 0.9115256267647813, 0.9132369299221357, 0.9145204072901515, 0.9157183195002995, 0.9169162317104476, 0.917686318131257, 0.9187131000256695, 0.9202532728672884, 0.9217934457089073, 0.9232480533926585, 0.9248737913921451, 0.925216052023616, 0.9263283990758963, 0.9277830067596474, 0.929152049285531, 0.9304355266535467, 0.9318045691794301, 0.9334303071789167, 0.9347993497048002, 0.9357405664413451, 0.937280739282964, 0.9385642166509797, 0.9397621288611278, 0.9407033455976727, 0.9414734320184821, 0.9422435184392915, 0.9435269958073073, 0.9444682125438522, 0.9460939505433388, 0.946949602122016, 0.9479763840164285, 0.9491742962265766, 0.9494309917001796, 0.9501155129631215, 0.9513989903311372, 0.9530247283306238, 0.9537092495935655, 0.9540515102250363, 0.9547360314879781, 0.9555061179087876, 0.9564473346453324, 0.9571318559082741, 0.9583297681184222, 0.9591854196970994, 0.9601266364336443, 0.9609822880123213, 0.9620946350646017, 0.9630358518011466, 0.9638915033798238, 0.96440489432703, 0.965003850432104, 0.9659450671686489, 0.9662873278001198, 0.9670574142209293, 0.968340891588945, 0.9694532386412253, 0.9702233250620348, 0.9706511508513733, 0.971335672114315, 0.9725335843244631, 0.9734748010610079, 0.9739026268503466, 0.9745871481132883, 0.97527166937623, 0.9759561906391717, 0.9762128861127749, 0.9768974073757166, 0.9773252331650552, 0.9782664499016, 0.9784375802173355, 0.9789509711645418, 0.9794643621117481, 0.9802344485325576, 0.9808334046376316, 0.9813467955848378, 0.9817746213741765, 0.9823735774792505, 0.9828869684264567, 0.983400359373663, 0.9839993154787371, 0.9846838367416788, 0.9851116625310173, 0.9857106186360913, 0.9863095747411654, 0.9869940960041071, 0.9878497475827843, 0.9886198340035938, 0.9893899204244032, 0.9901600068452127, 0.9908445281081544, 0.9914434842132284, 0.9920424403183024, 0.992470266107641, 0.9931547873705827, 0.9935826131599212, 0.994267134422863, 0.9950372208436724, 0.9957217421066142, 1.0])}"
     ]
    },
    {
     "name": "stdout",
     "output_type": "stream",
     "text": [
      "\n"
     ]
    }
   ],
   "source": [
    "# DRF\n",
    "\n",
    "mod,mod_id=get_model_by_algo(\"DRF\",best_models)\n",
    "if mod is not None:\n",
    "    try:     \n",
    "         sh_df=mod.scoring_history()\n",
    "         sh_df.to_csv(run_id+'_drf_scoring_history.csv') \n",
    "    except:\n",
    "         pass  \n",
    "    try: \n",
    "         stats_drf={}\n",
    "         stats_drf=drf_stats(mod)\n",
    "         n=run_id+'_drf_stats.json'\n",
    "         dict_to_json(stats_drf,n)\n",
    "         print(stats_drf)\n",
    "    except:\n",
    "         pass"
   ]
  },
  {
   "cell_type": "code",
   "execution_count": 225,
   "metadata": {},
   "outputs": [],
   "source": [
    "# XRT\n",
    "\n",
    "mod,mod_id=get_model_by_algo(\"XRT\",best_models)\n",
    "if mod is not None:\n",
    "    try:     \n",
    "         sh_df=mod.scoring_history()\n",
    "         sh_df.to_csv(run_id+'_xrt_scoring_history.csv')\n",
    "    except:\n",
    "         pass     \n",
    "    try:        \n",
    "         stats_xrt={}\n",
    "         stats_xrt=xrt_stats(mod)\n",
    "         n=run_id+'_xrt_stats.json'\n",
    "         dict_to_json(stats_xrt,n)\n",
    "         print(stats_xrt)\n",
    "    except:\n",
    "         pass"
   ]
  },
  {
   "cell_type": "code",
   "execution_count": 226,
   "metadata": {},
   "outputs": [
    {
     "name": "stdout",
     "output_type": "stream",
     "text": [
      "{'algo': 'glm', 'model_id': 'GLM_grid_1_AutoML_20190415_164309_model_1', 'coef': {'Intercept': -8.130286272637353, 'native-country.?': 0.065729266621754, 'native-country.Cambodia': 0.5572126666010029, 'native-country.Canada': 0.5901026055722867, 'native-country.China': -0.38607416793358634, 'native-country.Columbia': -1.0542652388600449, 'native-country.Cuba': 0.23552384656444758, 'native-country.Dominican-Republic': -0.525465533873249, 'native-country.Ecuador': -0.13221664295236543, 'native-country.El-Salvador': -0.29393625283317865, 'native-country.England': 0.49511135261503186, 'native-country.France': 0.5537852277774868, 'native-country.Germany': 0.21203688770410686, 'native-country.Greece': -0.004900891142730397, 'native-country.Guatemala': -0.18203537829312894, 'native-country.Haiti': 0.21250593926755865, 'native-country.Holand-Netherlands': -0.005788764323843744, 'native-country.Honduras': 0.021601287801425277, 'native-country.Hong': -0.1714622937455509, 'native-country.Hungary': 0.2505789806223169, 'native-country.India': -0.05038792712283883, 'native-country.Iran': 0.0897098427661857, 'native-country.Ireland': 0.7214085316284167, 'native-country.Italy': 0.6313877224663145, 'native-country.Jamaica': 0.26564685408651256, 'native-country.Japan': 0.05172289388132049, 'native-country.Laos': -0.4240577158531965, 'native-country.Mexico': -0.5466367933850761, 'native-country.Nicaragua': -0.23009641858789417, 'native-country.Outlying-US(Guam-USVI-etc)': -0.18094442338981903, 'native-country.Peru': -0.38931905377518516, 'native-country.Philippines': 0.4074405581460852, 'native-country.Poland': 0.07050606761556279, 'native-country.Portugal': 0.5941031012905856, 'native-country.Puerto-Rico': -0.06349509396355293, 'native-country.Scotland': -0.3443588686715635, 'native-country.South': -0.7674132160603218, 'native-country.Taiwan': 0.05746671817334944, 'native-country.Thailand': -0.328747306944337, 'native-country.Trinadad&Tobago': -0.40216566643339896, 'native-country.United-States': 0.2958170825389989, 'native-country.Vietnam': -0.6045131418587452, 'native-country.Yugoslavia': 0.43393896073174953, 'education.10th': -0.13545339659158465, 'education.11th': -0.29340465475582267, 'education.12th': -0.12971664656947932, 'education.1st-4th': 0.24221453225553125, 'education.5th-6th': 0.44286968892013306, 'education.7th-8th': -0.015878385103586194, 'education.9th': -0.07609854810006543, 'education.Assoc-acdm': -0.2757031345790034, 'education.Assoc-voc': -0.10257802958267748, 'education.Bachelors': -0.010385667599228978, 'education.Doctorate': 0.0892458749803252, 'education.HS-grad': -0.06606774448059728, 'education.Masters': 0.060732427661404076, 'education.Preschool': -0.33374356798253285, 'education.Prof-school': 0.28965994655466454, 'education.Some-college': 0.03302083311136624, 'occupation.?': -0.31513001017403464, 'occupation.Adm-clerical': 0.06907713876993267, 'occupation.Armed-Forces': 0.2248123652786138, 'occupation.Craft-repair': 0.14338493547949924, 'occupation.Exec-managerial': 0.8361225674406176, 'occupation.Farming-fishing': -0.8610932771070842, 'occupation.Handlers-cleaners': -0.5897904052269991, 'occupation.Machine-op-inspct': -0.22356743888618322, 'occupation.Other-service': -0.7844302298515544, 'occupation.Priv-house-serv': -0.9095183526469243, 'occupation.Prof-specialty': 0.6020416951835548, 'occupation.Protective-serv': 0.5437412383722999, 'occupation.Sales': 0.3283869287403292, 'occupation.Tech-support': 0.6233653444218341, 'occupation.Transport-moving': -0.027868384095182958, 'workclass.?': -0.25908293400000665, 'workclass.Federal-gov': 0.5920459273217948, 'workclass.Local-gov': -0.04009312270411457, 'workclass.Never-worked': -0.05855613476975488, 'workclass.Private': 0.10326129299074013, 'workclass.Self-emp-inc': 0.2511778412346083, 'workclass.Self-emp-not-inc': -0.4320354091099492, 'workclass.State-gov': -0.20600256024841607, 'workclass.Without-pay': -0.3084474453344598, 'marital-status.Divorced': -0.5728384733446759, 'marital-status.Married-AF-spouse': 1.0503072560506381, 'marital-status.Married-civ-spouse': 1.4680096249323242, 'marital-status.Married-spouse-absent': -0.3919084946283413, 'marital-status.Never-married': -1.0064436691102194, 'marital-status.Separated': -0.6162369695019007, 'marital-status.Widowed': -0.4813527665788432, 'relationship.Husband': -0.025010392554826698, 'relationship.Not-in-family': 0.25135442617635223, 'relationship.Other-relative': -0.6290232752735144, 'relationship.Own-child': -0.7814828259988748, 'relationship.Unmarried': 0.056268615853578105, 'relationship.Wife': 1.095511461999871, 'race.Amer-Indian-Eskimo': -0.3476950381770551, 'race.Asian-Pac-Islander': 0.2628628839963869, 'race.Black': -0.11899231697506925, 'race.Other': 0.04965435053812065, 'race.White': 0.13168516663977567, 'gender.Female': -0.38769812043534835, 'gender.Male': 0.3106433105716944, 'age': 0.024929603373808853, 'fnlwgt': 7.516939127974343e-07, 'educational-num': 0.26594829928682145, 'capital-gain': 0.0003128421969687441, 'capital-loss': 0.00064377212635819, 'hours-per-week': 0.028723663673208197}, 'coef_norm': {'Intercept': -2.7891087809673873, 'native-country.?': 0.065729266621754, 'native-country.Cambodia': 0.5572126666010029, 'native-country.Canada': 0.5901026055722867, 'native-country.China': -0.38607416793358634, 'native-country.Columbia': -1.0542652388600449, 'native-country.Cuba': 0.23552384656444758, 'native-country.Dominican-Republic': -0.525465533873249, 'native-country.Ecuador': -0.13221664295236543, 'native-country.El-Salvador': -0.29393625283317865, 'native-country.England': 0.49511135261503186, 'native-country.France': 0.5537852277774868, 'native-country.Germany': 0.21203688770410686, 'native-country.Greece': -0.004900891142730397, 'native-country.Guatemala': -0.18203537829312894, 'native-country.Haiti': 0.21250593926755865, 'native-country.Holand-Netherlands': -0.005788764323843744, 'native-country.Honduras': 0.021601287801425277, 'native-country.Hong': -0.1714622937455509, 'native-country.Hungary': 0.2505789806223169, 'native-country.India': -0.05038792712283883, 'native-country.Iran': 0.0897098427661857, 'native-country.Ireland': 0.7214085316284167, 'native-country.Italy': 0.6313877224663145, 'native-country.Jamaica': 0.26564685408651256, 'native-country.Japan': 0.05172289388132049, 'native-country.Laos': -0.4240577158531965, 'native-country.Mexico': -0.5466367933850761, 'native-country.Nicaragua': -0.23009641858789417, 'native-country.Outlying-US(Guam-USVI-etc)': -0.18094442338981903, 'native-country.Peru': -0.38931905377518516, 'native-country.Philippines': 0.4074405581460852, 'native-country.Poland': 0.07050606761556279, 'native-country.Portugal': 0.5941031012905856, 'native-country.Puerto-Rico': -0.06349509396355293, 'native-country.Scotland': -0.3443588686715635, 'native-country.South': -0.7674132160603218, 'native-country.Taiwan': 0.05746671817334944, 'native-country.Thailand': -0.328747306944337, 'native-country.Trinadad&Tobago': -0.40216566643339896, 'native-country.United-States': 0.2958170825389989, 'native-country.Vietnam': -0.6045131418587452, 'native-country.Yugoslavia': 0.43393896073174953, 'education.10th': -0.13545339659158465, 'education.11th': -0.29340465475582267, 'education.12th': -0.12971664656947932, 'education.1st-4th': 0.24221453225553125, 'education.5th-6th': 0.44286968892013306, 'education.7th-8th': -0.015878385103586194, 'education.9th': -0.07609854810006543, 'education.Assoc-acdm': -0.2757031345790034, 'education.Assoc-voc': -0.10257802958267748, 'education.Bachelors': -0.010385667599228978, 'education.Doctorate': 0.0892458749803252, 'education.HS-grad': -0.06606774448059728, 'education.Masters': 0.060732427661404076, 'education.Preschool': -0.33374356798253285, 'education.Prof-school': 0.28965994655466454, 'education.Some-college': 0.03302083311136624, 'occupation.?': -0.31513001017403464, 'occupation.Adm-clerical': 0.06907713876993267, 'occupation.Armed-Forces': 0.2248123652786138, 'occupation.Craft-repair': 0.14338493547949924, 'occupation.Exec-managerial': 0.8361225674406176, 'occupation.Farming-fishing': -0.8610932771070842, 'occupation.Handlers-cleaners': -0.5897904052269991, 'occupation.Machine-op-inspct': -0.22356743888618322, 'occupation.Other-service': -0.7844302298515544, 'occupation.Priv-house-serv': -0.9095183526469243, 'occupation.Prof-specialty': 0.6020416951835548, 'occupation.Protective-serv': 0.5437412383722999, 'occupation.Sales': 0.3283869287403292, 'occupation.Tech-support': 0.6233653444218341, 'occupation.Transport-moving': -0.027868384095182958, 'workclass.?': -0.25908293400000665, 'workclass.Federal-gov': 0.5920459273217948, 'workclass.Local-gov': -0.04009312270411457, 'workclass.Never-worked': -0.05855613476975488, 'workclass.Private': 0.10326129299074013, 'workclass.Self-emp-inc': 0.2511778412346083, 'workclass.Self-emp-not-inc': -0.4320354091099492, 'workclass.State-gov': -0.20600256024841607, 'workclass.Without-pay': -0.3084474453344598, 'marital-status.Divorced': -0.5728384733446759, 'marital-status.Married-AF-spouse': 1.0503072560506381, 'marital-status.Married-civ-spouse': 1.4680096249323242, 'marital-status.Married-spouse-absent': -0.3919084946283413, 'marital-status.Never-married': -1.0064436691102194, 'marital-status.Separated': -0.6162369695019007, 'marital-status.Widowed': -0.4813527665788432, 'relationship.Husband': -0.025010392554826698, 'relationship.Not-in-family': 0.25135442617635223, 'relationship.Other-relative': -0.6290232752735144, 'relationship.Own-child': -0.7814828259988748, 'relationship.Unmarried': 0.056268615853578105, 'relationship.Wife': 1.095511461999871, 'race.Amer-Indian-Eskimo': -0.3476950381770551, 'race.Asian-Pac-Islander': 0.2628628839963869, 'race.Black': -0.11899231697506925, 'race.Other': 0.04965435053812065, 'race.White': 0.13168516663977567, 'gender.Female': -0.38769812043534835, 'gender.Male': 0.3106433105716944, 'age': 0.3417975747183439, 'fnlwgt': 0.07938190307749281, 'educational-num': 0.6837458318625134, 'capital-gain': 2.331306013849863, 'capital-loss': 0.25944309745312866, 'hours-per-week': 0.3559276705780088}}"
     ]
    },
    {
     "name": "stdout",
     "output_type": "stream",
     "text": [
      "\n"
     ]
    }
   ],
   "source": [
    "# GLM\n",
    "\n",
    "mod,mod_id=get_model_by_algo(\"GLM\",best_models)\n",
    "if mod is not None:\n",
    "    try:     \n",
    "         stats_glm={}\n",
    "         stats_glm=glm_stats(mod)\n",
    "         n=run_id+'_glm_stats.json'\n",
    "         dict_to_json(stats_glm,n)\n",
    "         print(stats_glm)\n",
    "    except:\n",
    "         pass"
   ]
  },
  {
   "cell_type": "code",
   "execution_count": 227,
   "metadata": {},
   "outputs": [],
   "source": [
    "# split into training and test for showing how to predict\n",
    "train, test = df.split_frame([0.8])"
   ]
  },
  {
   "cell_type": "code",
   "execution_count": 228,
   "metadata": {},
   "outputs": [
    {
     "name": "stdout",
     "output_type": "stream",
     "text": [
      "gbm prediction progress: |████████████████████████████████████████████████| 100%\n"
     ]
    }
   ],
   "source": [
    "def predictions_test(mod,test,run_id):\n",
    "    mod_perf=mod_best.model_performance(test)          \n",
    "    stats_test={}\n",
    "    stats_test=model_performance_stats(mod_perf)\n",
    "    n=run_id+'_test_stats.json'\n",
    "    dict_to_json(stats_test,n) \n",
    "    try:\n",
    "      cf=mod_perf.confusion_matrix()\n",
    "#      cf=mod_perf.confusion_matrix(metrics=[\"f1\",\"f2\",\"f0point5\",\"accuracy\",\"precision\",\"recall\",\"specificity\",\"absolute_mcc\",\"min_per_class_accuracy\",\"mean_per_class_accuracy\"])\n",
    "      cf_df=cf.table.as_data_frame()\n",
    "      cf_df.to_csv(run_id+'_test_confusion_matrix.csv')\n",
    "    except:\n",
    "      pass\n",
    "    predictions = mod_best.predict(test)    \n",
    "    predictions_df=test.cbind(predictions).as_data_frame() \n",
    "    predictions_df.to_csv(run_id+'_predictions.csv')\n",
    "    return predictions\n",
    "predictions_df=predictions_test(mod_best,test,run_id)"
   ]
  },
  {
   "cell_type": "code",
   "execution_count": 229,
   "metadata": {},
   "outputs": [
    {
     "name": "stdout",
     "output_type": "stream",
     "text": [
      "Rows:9620\n",
      "Cols:3\n",
      "\n",
      "\n"
     ]
    },
    {
     "data": {
      "text/html": [
       "<table>\n",
       "<thead>\n",
       "<tr><th>       </th><th>predict  </th><th><=50K               </th><th>>50K                 </th></tr>\n",
       "</thead>\n",
       "<tbody>\n",
       "<tr><td>type   </td><td>enum     </td><td>real                </td><td>real                 </td></tr>\n",
       "<tr><td>mins   </td><td>         </td><td>0.004086472610442038</td><td>0.0011299782772838634</td></tr>\n",
       "<tr><td>mean   </td><td>         </td><td>0.7612328975641295  </td><td>0.23876710243587052  </td></tr>\n",
       "<tr><td>maxs   </td><td>         </td><td>0.9988700217227161  </td><td>0.995913527389558    </td></tr>\n",
       "<tr><td>sigma  </td><td>         </td><td>0.3085246308514548  </td><td>0.3085246308514548   </td></tr>\n",
       "<tr><td>zeros  </td><td>         </td><td>0                   </td><td>0                    </td></tr>\n",
       "<tr><td>missing</td><td>0        </td><td>0                   </td><td>0                    </td></tr>\n",
       "<tr><td>0      </td><td>>50K     </td><td>0.5260915641787428  </td><td>0.4739084358212572   </td></tr>\n",
       "<tr><td>1      </td><td>>50K     </td><td>0.01171574876195558 </td><td>0.9882842512380444   </td></tr>\n",
       "<tr><td>2      </td><td><=50K    </td><td>0.9945128816183055  </td><td>0.005487118381694518 </td></tr>\n",
       "<tr><td>3      </td><td><=50K    </td><td>0.9582964855363616  </td><td>0.041703514463638396 </td></tr>\n",
       "<tr><td>4      </td><td><=50K    </td><td>0.6578079680549038  </td><td>0.3421920319450962   </td></tr>\n",
       "<tr><td>5      </td><td><=50K    </td><td>0.9967086849045609  </td><td>0.0032913150954391596</td></tr>\n",
       "<tr><td>6      </td><td><=50K    </td><td>0.9610977000541019  </td><td>0.03890229994589815  </td></tr>\n",
       "<tr><td>7      </td><td>>50K     </td><td>0.4341938539274405  </td><td>0.5658061460725595   </td></tr>\n",
       "<tr><td>8      </td><td><=50K    </td><td>0.9971208880163644  </td><td>0.002879111983635501 </td></tr>\n",
       "<tr><td>9      </td><td><=50K    </td><td>0.977832250870111   </td><td>0.02216774912988891  </td></tr>\n",
       "</tbody>\n",
       "</table>"
      ]
     },
     "metadata": {},
     "output_type": "display_data"
    }
   ],
   "source": [
    "\n",
    "predictions_df.describe()"
   ]
  },
  {
   "cell_type": "code",
   "execution_count": 230,
   "metadata": {},
   "outputs": [],
   "source": [
    "# Update and save meta data\n",
    "\n",
    "meta_data['end_time'] = time.time()\n",
    "meta_data['execution_time'] = meta_data['end_time'] - meta_data['start_time']\n",
    "  \n",
    "n=run_id+'_meta_data.json'\n",
    "dict_to_json(meta_data,n)"
   ]
  },
  {
   "cell_type": "code",
   "execution_count": 231,
   "metadata": {},
   "outputs": [
    {
     "data": {
      "text/plain": [
       "{'start_time': 1555360951.0231917,\n",
       " 'target': None,\n",
       " 'server_path': 'C:\\\\Users\\\\pkash\\\\Y\\\\e\\\\Q',\n",
       " 'data_path': 'C:/Users/pkash/Downloads/adult.csv',\n",
       " 'test_path': None,\n",
       " 'max_models': 20,\n",
       " 'run_time': 100,\n",
       " 'run_id': 'R',\n",
       " 'scale': False,\n",
       " 'classification': False,\n",
       " 'model_path': None,\n",
       " 'balance': False,\n",
       " 'balance_threshold': 0.2,\n",
       " 'project': None,\n",
       " 'end_time': 1555361331.7373235,\n",
       " 'execution_time': 380.7141318321228,\n",
       " 'run_path': 'C:\\\\Users\\\\pkash\\\\Y\\\\e\\\\Q\\\\R',\n",
       " 'nthreads': 1,\n",
       " 'min_mem_size': 0,\n",
       " 'analysis': 0,\n",
       " 'x': ['age',\n",
       "  'workclass',\n",
       "  'fnlwgt',\n",
       "  'education',\n",
       "  'educational-num',\n",
       "  'marital-status',\n",
       "  'occupation',\n",
       "  'relationship',\n",
       "  'race',\n",
       "  'gender',\n",
       "  'capital-gain',\n",
       "  'capital-loss',\n",
       "  'hours-per-week',\n",
       "  'native-country'],\n",
       " 'variables': {'age': 'int',\n",
       "  'workclass': 'enum',\n",
       "  'fnlwgt': 'int',\n",
       "  'education': 'enum',\n",
       "  'educational-num': 'int',\n",
       "  'marital-status': 'enum',\n",
       "  'occupation': 'enum',\n",
       "  'relationship': 'enum',\n",
       "  'race': 'enum',\n",
       "  'gender': 'enum',\n",
       "  'capital-gain': 'int',\n",
       "  'capital-loss': 'int',\n",
       "  'hours-per-week': 'int',\n",
       "  'native-country': 'enum',\n",
       "  'income': 'enum'},\n",
       " 'model_execution_time': 150.9347882270813,\n",
       " 'mod_best': 'GBM_2_AutoML_20190415_164309',\n",
       " 'mod_best_algo': 'gbm',\n",
       " 'models': ['GBM_2_AutoML_20190415_164309',\n",
       "  'DRF_1_AutoML_20190415_164309',\n",
       "  'GLM_grid_1_AutoML_20190415_164309_model_1',\n",
       "  'StackedEnsemble_BestOfFamily_AutoML_20190415_164309']}"
      ]
     },
     "execution_count": 231,
     "metadata": {},
     "output_type": "execute_result"
    }
   ],
   "source": [
    "meta_data"
   ]
  },
  {
   "cell_type": "code",
   "execution_count": 232,
   "metadata": {},
   "outputs": [
    {
     "name": "stdout",
     "output_type": "stream",
     "text": [
      "Writing H2O logs to C:\\Users\\pkash\\Y\\e\\Q\\R\\logs\\R_autoh2o_log.zip\n"
     ]
    },
    {
     "data": {
      "text/plain": [
       "'C:\\\\Users\\\\pkash\\\\Y\\\\e\\\\Q\\\\R\\\\logs\\\\R_autoh2o_log.zip'"
      ]
     },
     "execution_count": 232,
     "metadata": {},
     "output_type": "execute_result"
    }
   ],
   "source": [
    "# Save logs\n",
    "h2o.download_all_logs(dirname=logs_path, filename=logfile)"
   ]
  },
  {
   "cell_type": "code",
   "execution_count": 233,
   "metadata": {},
   "outputs": [],
   "source": [
    "# Clean up\n",
    "os.chdir(server_path)"
   ]
  },
  {
   "cell_type": "code",
   "execution_count": 234,
   "metadata": {},
   "outputs": [],
   "source": [
    "def predictions_test(mod,test,run_id):\n",
    "    mod_perf=mod_best.model_performance(test)          \n",
    "    stats_test={}\n",
    "    stats_test=model_performance_stats(mod_perf)\n",
    "    print(stats_test)   \n",
    "    n=run_id+'_test_stats.json'\n",
    "    dict_to_json(stats_test,n) \n",
    "    try:\n",
    "      cf=mod_perf.confusion_matrix()\n",
    "      print(cf)   \n",
    "#      cf=mod_perf.confusion_matrix(metrics=[\"f1\",\"f2\",\"f0point5\",\"accuracy\",\"precision\",\"recall\",\"specificity\",\"absolute_mcc\",\"min_per_class_accuracy\",\"mean_per_class_accuracy\"])\n",
    "      cf_df=cf.table.as_data_frame()\n",
    "      print(cf_df)    \n",
    "      cf_df.to_csv(run_id+'_test_confusion_matrix.csv')\n",
    "    except:\n",
    "      pass\n",
    "    predictions = mod_best.predict(test)    \n",
    "    predictions_df=test.cbind(predictions).as_data_frame() \n",
    "    predictions_df.to_csv(run_id+'_predictions.csv')\n",
    "    return predictions"
   ]
  },
  {
   "cell_type": "code",
   "execution_count": 235,
   "metadata": {},
   "outputs": [
    {
     "name": "stdout",
     "output_type": "stream",
     "text": [
      "H2O session _sid_b830 closed.\n"
     ]
    }
   ],
   "source": [
    "h2o.cluster().shutdown()"
   ]
  },
  {
   "cell_type": "code",
   "execution_count": null,
   "metadata": {},
   "outputs": [],
   "source": []
  },
  {
   "cell_type": "code",
   "execution_count": null,
   "metadata": {},
   "outputs": [],
   "source": []
  },
  {
   "cell_type": "code",
   "execution_count": null,
   "metadata": {},
   "outputs": [],
   "source": []
  },
  {
   "cell_type": "code",
   "execution_count": null,
   "metadata": {},
   "outputs": [],
   "source": []
  }
 ],
 "metadata": {
  "kernelspec": {
   "display_name": "Python 3",
   "language": "python",
   "name": "python3"
  },
  "language_info": {
   "codemirror_mode": {
    "name": "ipython",
    "version": 3
   },
   "file_extension": ".py",
   "mimetype": "text/x-python",
   "name": "python",
   "nbconvert_exporter": "python",
   "pygments_lexer": "ipython3",
   "version": "3.7.1"
  }
 },
 "nbformat": 4,
 "nbformat_minor": 2
}
